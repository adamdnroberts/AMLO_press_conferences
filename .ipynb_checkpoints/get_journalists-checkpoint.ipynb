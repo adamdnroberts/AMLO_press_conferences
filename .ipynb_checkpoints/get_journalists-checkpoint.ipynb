{
 "cells": [
  {
   "cell_type": "code",
   "execution_count": 1,
   "metadata": {
    "executionInfo": {
     "elapsed": 4858,
     "status": "ok",
     "timestamp": 1726579092829,
     "user": {
      "displayName": "Adam",
      "userId": "08242735471278950230"
     },
     "user_tz": 240
    },
    "id": "YeNqNiQrHNiy"
   },
   "outputs": [],
   "source": [
    "import requests\n",
    "from bs4 import BeautifulSoup\n",
    "from tqdm import tqdm\n",
    "import pandas as pd\n",
    "import seaborn as sns\n",
    "import regex as re\n",
    "import os \n",
    "import json\n",
    "#pd.set_option('display.max_rows', None)"
   ]
  },
  {
   "cell_type": "markdown",
   "metadata": {},
   "source": [
    "# Collecting transcripts from WaybackMachine"
   ]
  },
  {
   "cell_type": "code",
   "execution_count": null,
   "metadata": {
    "id": "-F5bYOIPIWpH"
   },
   "outputs": [],
   "source": [
    "#!pip install waybackpy\n"
   ]
  },
  {
   "cell_type": "code",
   "execution_count": 2,
   "metadata": {
    "id": "Y8K0eBF3IWpI"
   },
   "outputs": [],
   "source": [
    "from waybackpy import WaybackMachineCDXServerAPI\n",
    "user_agent = \"my new app's user agent\""
   ]
  },
  {
   "cell_type": "code",
   "execution_count": 287,
   "metadata": {},
   "outputs": [
    {
     "data": {
      "text/html": [
       "<div>\n",
       "<style scoped>\n",
       "    .dataframe tbody tr th:only-of-type {\n",
       "        vertical-align: middle;\n",
       "    }\n",
       "\n",
       "    .dataframe tbody tr th {\n",
       "        vertical-align: top;\n",
       "    }\n",
       "\n",
       "    .dataframe thead th {\n",
       "        text-align: right;\n",
       "    }\n",
       "</style>\n",
       "<table border=\"1\" class=\"dataframe\">\n",
       "  <thead>\n",
       "    <tr style=\"text-align: right;\">\n",
       "      <th></th>\n",
       "      <th>Unnamed: 0</th>\n",
       "      <th>date</th>\n",
       "      <th>url</th>\n",
       "      <th>title</th>\n",
       "      <th>dates2</th>\n",
       "      <th>month</th>\n",
       "      <th>year</th>\n",
       "      <th>Unnamed: 6</th>\n",
       "      <th>Unnamed: 7</th>\n",
       "    </tr>\n",
       "  </thead>\n",
       "  <tbody>\n",
       "    <tr>\n",
       "      <th>3</th>\n",
       "      <td>3</td>\n",
       "      <td>diciembre 4, 2018</td>\n",
       "      <td>https://lopezobrador.org.mx/2018/12/04/confere...</td>\n",
       "      <td>Conferencia de prensa del presidente de México...</td>\n",
       "      <td>2018-12-04</td>\n",
       "      <td>12</td>\n",
       "      <td>2018</td>\n",
       "      <td>NaN</td>\n",
       "      <td>NaN</td>\n",
       "    </tr>\n",
       "    <tr>\n",
       "      <th>2</th>\n",
       "      <td>2</td>\n",
       "      <td>diciembre 5, 2018</td>\n",
       "      <td>https://lopezobrador.org.mx/2018/12/05/version...</td>\n",
       "      <td>Versión estenográfica conferencia de prensa de...</td>\n",
       "      <td>2018-12-05</td>\n",
       "      <td>12</td>\n",
       "      <td>2018</td>\n",
       "      <td>NaN</td>\n",
       "      <td>NaN</td>\n",
       "    </tr>\n",
       "    <tr>\n",
       "      <th>1</th>\n",
       "      <td>1</td>\n",
       "      <td>diciembre 6, 2018</td>\n",
       "      <td>https://lopezobrador.org.mx/2018/12/06/version...</td>\n",
       "      <td>Versión estenográfica conferencia de prensa de...</td>\n",
       "      <td>2018-12-06</td>\n",
       "      <td>12</td>\n",
       "      <td>2018</td>\n",
       "      <td>NaN</td>\n",
       "      <td>NaN</td>\n",
       "    </tr>\n",
       "    <tr>\n",
       "      <th>63</th>\n",
       "      <td>66</td>\n",
       "      <td>diciembre 10, 2018</td>\n",
       "      <td>https://lopezobrador.org.mx/2018/12/10/version...</td>\n",
       "      <td>Versión estenográfica de la conferencia de pre...</td>\n",
       "      <td>2018-12-10</td>\n",
       "      <td>12</td>\n",
       "      <td>2018</td>\n",
       "      <td>NaN</td>\n",
       "      <td>NaN</td>\n",
       "    </tr>\n",
       "    <tr>\n",
       "      <th>64</th>\n",
       "      <td>67</td>\n",
       "      <td>diciembre 11, 2018</td>\n",
       "      <td>https://lopezobrador.org.mx/2018/12/11/version...</td>\n",
       "      <td>Versión estenográfica de la conferencia de pre...</td>\n",
       "      <td>2018-12-11</td>\n",
       "      <td>12</td>\n",
       "      <td>2018</td>\n",
       "      <td>NaN</td>\n",
       "      <td>NaN</td>\n",
       "    </tr>\n",
       "  </tbody>\n",
       "</table>\n",
       "</div>"
      ],
      "text/plain": [
       "    Unnamed: 0                date  \\\n",
       "3            3   diciembre 4, 2018   \n",
       "2            2   diciembre 5, 2018   \n",
       "1            1   diciembre 6, 2018   \n",
       "63          66  diciembre 10, 2018   \n",
       "64          67  diciembre 11, 2018   \n",
       "\n",
       "                                                  url  \\\n",
       "3   https://lopezobrador.org.mx/2018/12/04/confere...   \n",
       "2   https://lopezobrador.org.mx/2018/12/05/version...   \n",
       "1   https://lopezobrador.org.mx/2018/12/06/version...   \n",
       "63  https://lopezobrador.org.mx/2018/12/10/version...   \n",
       "64  https://lopezobrador.org.mx/2018/12/11/version...   \n",
       "\n",
       "                                                title      dates2  month  \\\n",
       "3   Conferencia de prensa del presidente de México...  2018-12-04     12   \n",
       "2   Versión estenográfica conferencia de prensa de...  2018-12-05     12   \n",
       "1   Versión estenográfica conferencia de prensa de...  2018-12-06     12   \n",
       "63  Versión estenográfica de la conferencia de pre...  2018-12-10     12   \n",
       "64  Versión estenográfica de la conferencia de pre...  2018-12-11     12   \n",
       "\n",
       "    year  Unnamed: 6 Unnamed: 7  \n",
       "3   2018         NaN        NaN  \n",
       "2   2018         NaN        NaN  \n",
       "1   2018         NaN        NaN  \n",
       "63  2018         NaN        NaN  \n",
       "64  2018         NaN        NaN  "
      ]
     },
     "execution_count": 287,
     "metadata": {},
     "output_type": "execute_result"
    }
   ],
   "source": [
    "df = pd.read_csv('conference_links_full.csv').sort_values('dates2')\n",
    "\n",
    "df.head()"
   ]
  },
  {
   "cell_type": "code",
   "execution_count": 824,
   "metadata": {},
   "outputs": [
    {
     "data": {
      "text/plain": [
       "(0, 9)"
      ]
     },
     "execution_count": 824,
     "metadata": {},
     "output_type": "execute_result"
    }
   ],
   "source": [
    "files = os.listdir('texts')\n",
    "\n",
    "files = [el.split('.')[0] for el in files if el.endswith('html')]\n"
   ]
  },
  {
   "cell_type": "code",
   "execution_count": 827,
   "metadata": {},
   "outputs": [
    {
     "data": {
      "text/plain": [
       "{'2024-06-15'}"
      ]
     },
     "execution_count": 827,
     "metadata": {},
     "output_type": "execute_result"
    }
   ],
   "source": [
    "set(files) - set(df.dates2)"
   ]
  },
  {
   "cell_type": "code",
   "execution_count": null,
   "metadata": {},
   "outputs": [],
   "source": [
    "\n",
    "df = df[~df.dates2.isin(files)]\n",
    "\n",
    "df.shape"
   ]
  },
  {
   "cell_type": "code",
   "execution_count": 431,
   "metadata": {},
   "outputs": [
    {
     "name": "stderr",
     "output_type": "stream",
     "text": [
      "21it [04:31, 12.93s/it]"
     ]
    },
    {
     "name": "stdout",
     "output_type": "stream",
     "text": [
      "['2021-03-25', '2021-05-12', '2021-07-23', '2021-08-05', '2021-09-06']\n"
     ]
    },
    {
     "name": "stderr",
     "output_type": "stream",
     "text": [
      "\n"
     ]
    }
   ],
   "source": [
    "failed_dates = []\n",
    "\n",
    "for (i, row) in tqdm(df.iterrows()):\n",
    "    \n",
    "    try:\n",
    "        date = row['dates2']\n",
    "        \n",
    "        cdx_api = WaybackMachineCDXServerAPI(row['url'], user_agent)\n",
    "\n",
    "        try:\n",
    "            newest = cdx_api.newest()\n",
    "    \n",
    "            page = requests.get(newest.archive_url)\n",
    "        \n",
    "            with open(f'texts/{date}.html', 'wb+') as f:\n",
    "                f.write(page.content)\n",
    "\n",
    "        except:\n",
    "            \n",
    "            oldest = cdx_api.oldest()\n",
    "    \n",
    "            page = requests.get(oldest.archive_url)\n",
    "        \n",
    "            with open(f'texts/{date}.old.html', 'wb+') as f:\n",
    "                f.write(page.content)\n",
    "            \n",
    "    except:\n",
    "\n",
    "        failed_dates.append(date)\n",
    "\n",
    "\n",
    "print(failed_dates)\n"
   ]
  },
  {
   "cell_type": "markdown",
   "metadata": {},
   "source": [
    "# Some ugly functions that we need for cleaning"
   ]
  },
  {
   "cell_type": "code",
   "execution_count": 2,
   "metadata": {},
   "outputs": [],
   "source": [
    "def clean_html_tags(html_string):\n",
    "    \n",
    "    # Iterate through all the tags in the parsed HTML\n",
    "    for tag in html_string.find_all(True):  # True finds all tags\n",
    "        tag.attrs = {}  # Remove all attributes for the tag\n",
    "\n",
    "    # Convert the cleaned HTML back to a string\n",
    "    return str(html_string)\n",
    "\n",
    "\n",
    "\n",
    "def is_uppercase_or_digit_or_punctuation(s):\n",
    "    # Regular expression to check for only uppercase letters, numbers, or punctuation\n",
    "    pattern = r'^[A-Z0-9\\p{P}\\s]+$'\n",
    "    \n",
    "    # Return True if it matches the pattern, else False\n",
    "    return bool(re.match(pattern, s))\n",
    "\n",
    "\n",
    "def is_spanish_question(s: str) -> bool:\n",
    "    # Strip any leading or trailing spaces\n",
    "    s = s.strip()\n",
    "    \n",
    "    # Check if the string starts with '¿' and ends with '?'\n",
    "    if s.startswith('¿') and s.endswith('?'):\n",
    "        return True\n",
    "    else:\n",
    "        return False\n",
    "\n",
    "\n",
    "def clean_paragraph(x):\n",
    "\n",
    "    x = x.replace('<b>', '').replace('</b>', '').replace('</p>', '').replace('<p>','').replace('\\n', ' ').replace('<span>', '').replace('</span>', '')\n",
    "\n",
    "    return x\n",
    "\n",
    "def find_true_index(logical_list):\n",
    "    try:\n",
    "        return logical_list.index(True)\n",
    "    except ValueError:\n",
    "        return 0\n",
    "\n",
    "\n",
    "\n",
    "\n",
    "def extract_exchange(question, tag):\n",
    "\n",
    "    # Initialize an empty list to hold the fragments\n",
    "    fragments = []\n",
    "\n",
    "    current_speaker = None\n",
    "    current_fragment = []\n",
    "    i = 0\n",
    "\n",
    "    \n",
    "    if tag in ['b', 'nothing']:\n",
    "\n",
    "        question = BeautifulSoup(question, 'html.parser')\n",
    "\n",
    "\n",
    "        # Find all <p> tags\n",
    "        paragraphs = question.find_all('p')\n",
    "        \n",
    "        \n",
    "        for p in paragraphs:\n",
    "            # Check if the paragraph contains a speaker identifier\n",
    "            bold_tag = p.find('b')\n",
    "            \n",
    "            if bold_tag and ':' in p.text:\n",
    "                # If there's an ongoing fragment, append it to fragments\n",
    "                if current_fragment:\n",
    "                    fragment_html = ''.join(str(tag) for tag in current_fragment)\n",
    "                    fragments.append({\n",
    "                        'speaker': current_speaker,\n",
    "                        'html': fragment_html,\n",
    "                        'order':i\n",
    "                    })\n",
    "                    i += 1\n",
    "                    current_fragment = []\n",
    "                \n",
    "                # Extract speaker's name and initialize a new fragment\n",
    "                current_speaker = bold_tag.text.strip(':').strip()\n",
    "                bold_tag.extract() \n",
    "        \n",
    "            \n",
    "            # Append the current <p> tag to the current fragment as HTML\n",
    "            current_fragment.append(p)\n",
    "        \n",
    "        # Append the last fragment if it exists\n",
    "        if current_fragment:\n",
    "            fragment_html = ''.join(str(tag) for tag in current_fragment)\n",
    "            fragments.append({\n",
    "                'speaker': current_speaker,\n",
    "                'html': fragment_html\n",
    "            })\n",
    "\n",
    "\n",
    "\n",
    "    elif tag in ['plain']:\n",
    "\n",
    "        paragraphs = re.split(r'(<p>|<br/>)', str(question))\n",
    "        \n",
    "        \n",
    "        for p in paragraphs:\n",
    "            # Check if the paragraph contains a speaker identifier\n",
    "        \n",
    "            p1 = p\n",
    "            \n",
    "            if is_uppercase_or_digit_or_punctuation(p1[:7]) and ':' in p1:\n",
    "                # If there's an ongoing fragment, append it to fragments\n",
    "                if current_fragment:\n",
    "                    fragment_html = ''.join(current_fragment)\n",
    "                    fragments.append({\n",
    "                        'speaker': current_speaker,\n",
    "                        'html': fragment_html,\n",
    "                        'order': i\n",
    "                    })\n",
    "                    current_fragment = []\n",
    "                    i += 1\n",
    "                # Extract speaker's name and initialize a new fragment\n",
    "                current_speaker = p1.split(':')[0].strip()\n",
    "                p1 = ''.join(p1.split(':')[1:])\n",
    "        \n",
    "            \n",
    "            # Append the current <p> tag to the current fragment as HTML\n",
    "            current_fragment.append(p1)\n",
    "        \n",
    "        # Append the last fragment if it exists\n",
    "        if current_fragment:\n",
    "            fragment_html = ''.join(current_fragment)\n",
    "            fragments.append({\n",
    "                'speaker': current_speaker,\n",
    "                'html': fragment_html\n",
    "            })\n",
    "\n",
    "    \n",
    "    return fragments"
   ]
  },
  {
   "cell_type": "markdown",
   "metadata": {},
   "source": [
    "# Splitting into questions"
   ]
  },
  {
   "cell_type": "code",
   "execution_count": 3,
   "metadata": {},
   "outputs": [],
   "source": [
    "files = os.listdir('texts')\n",
    "\n",
    "files = [el for el in files if el.endswith('html')]"
   ]
  },
  {
   "cell_type": "code",
   "execution_count": 4,
   "metadata": {},
   "outputs": [
    {
     "name": "stderr",
     "output_type": "stream",
     "text": [
      "100%|███████████████████████████████████████| 1421/1421 [00:23<00:00, 59.61it/s]"
     ]
    },
    {
     "name": "stdout",
     "output_type": "stream",
     "text": [
      "[]\n"
     ]
    },
    {
     "name": "stderr",
     "output_type": "stream",
     "text": [
      "\n"
     ]
    }
   ],
   "source": [
    "files_summary = dict()\n",
    "\n",
    "bad = []\n",
    "\n",
    "pattern_strong = r'<strong>\\s*PREGUNTA\\s*:?\\s*[¿?,]?\\s*</strong>'\n",
    "pattern_b = r'<b>\\s*PREGUNTA\\s*:?\\s*[¿?,]?\\s*</b>'\n",
    "pattern_plain = r'\\s*PREGUNTA\\s*:?'\n",
    "\n",
    "pattern_bi = r'<b>\\s*INTERLOCUTORA?\\s*:?\\s*[¿?,]?\\s*</b>'\n",
    "pattern_plaini = r'\\s*INTERLOCUTORA?\\s*:?'\n",
    "\n",
    "\n",
    "pregunta_tag = {'b':\"<p><b>PREGUNTA</b>:\", 'plain':\"<p>PREGUNTA:\"}\n",
    "\n",
    "\n",
    "results = {}\n",
    "\n",
    "for date in tqdm(files):\n",
    "\n",
    "\n",
    "\n",
    "    try:\n",
    "\n",
    "        # Reading\n",
    "        with open(f'texts/{date}', 'r', errors=\"ignore\") as fp:\n",
    "            soup = BeautifulSoup(fp, 'html.parser')\n",
    "\n",
    "\n",
    "        # main part\n",
    "        transcript = soup.findAll('div', class_='entry-content')[0]\n",
    "\n",
    "\n",
    "        # remove tag attributes\n",
    "        # e.g. <p style='blalbla'> ---> <p>\n",
    "        transcript = clean_html_tags(transcript)\n",
    "    \n",
    "        # Convert the transcript's HTML content to a string\n",
    "        transcript_html_full = str(transcript)\n",
    "\n",
    "        # Standardize bold tags\n",
    "        transcript_html_full = transcript_html_full.replace('<strong>', '<b>')\n",
    "        transcript_html_full = transcript_html_full.replace('</strong>', '</b>')\n",
    "\n",
    "        # Standardize italics tags\n",
    "        transcript_html_full = transcript_html_full.replace('<em>', '<i>')\n",
    "        transcript_html_full = transcript_html_full.replace('</em>', '</i>')\n",
    "\n",
    "        # Remove stupid non-breaking spaces\n",
    "        transcript_html_full = transcript_html_full.replace(u'\\xa0', u' ')\n",
    "\n",
    "        #remove some other useless tags\n",
    "        transcript_html_full = transcript_html_full.replace('<meta/>', '').replace('<meta>', '').replace('</font>', '').replace('<font>', '').replace('<span>', '').replace('</span>', '')\n",
    "        \n",
    "        # Split the HTML string\n",
    "\n",
    "        # PREGUNTA patterns\n",
    "        fragments_html_b = re.split(pattern_b, transcript_html_full)    \n",
    "        fragments_html_p = re.split(pattern_plain, transcript_html_full)\n",
    "\n",
    "        # interlocutor patterns (need to detect irregularities in bold/plain speaker identifiers\n",
    "        fragments_html_bi = re.split(pattern_bi, transcript_html_full)\n",
    "        fragments_html_pi = re.split(pattern_plaini, transcript_html_full)\n",
    "    \n",
    "\n",
    "        # number of elemennts after splitting\n",
    "        n_b = len(fragments_html_b) - 1\n",
    "        n_p = len(fragments_html_p) - 1 - n_b\n",
    "        \n",
    "        n_bi = len(fragments_html_bi) - 1\n",
    "        n_pi = len(fragments_html_pi) - 1 - n_bi\n",
    "    \n",
    "\n",
    "        # if numbers are the same, it is bold type\n",
    "        # if there is variation, then we probably have some variation in bold/plain which means that we will treat it as plain\n",
    "        \n",
    "        if ((n_b > 0) and (n_p > 0)) or ((n_bi > 0) and (n_pi > 0)):\n",
    "            question_tag = 'plain'\n",
    "\n",
    "        elif ((n_b > 0) and (n_p == 0)):\n",
    "            question_tag = 'b'\n",
    "\n",
    "        elif ((n_b == 0) and (n_p > 0)):\n",
    "            question_tag = 'plain'\n",
    "            \n",
    "        else: \n",
    "            question_tag = 'nothing'\n",
    "\n",
    "        \n",
    "\n",
    "\n",
    "        pattern = r'(<p>|<br/>)' # r'<\\/?p\\b[^>]*>|<br\\/?>'\n",
    "\n",
    "        \n",
    "        # Clean first element\n",
    "        # \n",
    "        if question_tag == 'b':\n",
    "\n",
    "            paragraphs = re.split(r'(<p>|<br/>)', fragments_html_b[0])\n",
    "            p_clean = [clean_paragraph(p) for p in paragraphs]\n",
    "            i_split = find_true_index([is_uppercase_or_digit_or_punctuation(p[:7]) and ':' in p for p in p_clean])\n",
    "\n",
    "            \n",
    "            new_fragment_container = [\n",
    "                ''.join(paragraphs[0:i_split]),  ''.join(['<p>' + paragraphs[i_split]] + paragraphs[(i_split+1):])\n",
    "            ] + [\n",
    "                \"<p><b>PREGUNTA</b>:\" + fragment for fragment in fragments_html_b[1:2]\n",
    "                ]\n",
    "            \n",
    "            fragments_html_p = fragments_html_b\n",
    "            \n",
    "        elif question_tag == 'plain':\n",
    "\n",
    "            paragraphs = re.split(r'(<p>|<br/>)', fragments_html_p[0])\n",
    "            p_clean = [clean_paragraph(p) for p in paragraphs]\n",
    "            i_split = find_true_index([is_uppercase_or_digit_or_punctuation(p[:7]) and ':' in p for p in p_clean])\n",
    "\n",
    "            new_fragment_container = [\n",
    "                ''.join(paragraphs[0:i_split]),  ''.join(paragraphs[i_split:])\n",
    "            ] + [\n",
    "                 \"<p>PREGUNTA:\" + fragment for fragment in fragments_html_p[1:2]\n",
    "                ]\n",
    "\n",
    "        else:\n",
    "\n",
    "            paragraphs = re.split(r'(<p>|<br/>)', fragments_html_p[0])\n",
    "            p_clean = [clean_paragraph(p) for p in paragraphs]\n",
    "            i_split = find_true_index([is_uppercase_or_digit_or_punctuation(p[:7]) and ':' in p for p in p_clean])\n",
    "\n",
    "            new_fragment_container = [\n",
    "                ''.join(paragraphs[0:i_split]),  ''.join(['<p>' + paragraphs[i_split]] + paragraphs[(i_split+1):])\n",
    "            ]\n",
    "            \n",
    "        \n",
    "\n",
    "\n",
    "\n",
    "        # loop other questions to determinee if new \"PREGUNTA\" is indeed new or a clarification from presumably the same speaker\n",
    "        \n",
    "        for r in range(2, len(fragments_html_p)):\n",
    "\n",
    "            \n",
    "            \n",
    "            paragraphs = re.split(pattern, #r'(<p>|<br/>)',\n",
    "                                  fragments_html_p[r])\n",
    "        \n",
    "            #print(paragraphs)\n",
    "            current_fragment = []\n",
    "        \n",
    "            fragment_html = ''\n",
    "            \n",
    "            \n",
    "            for p in paragraphs:\n",
    "                    # Check if the paragraph contains a speaker identifier\n",
    "                \n",
    "                p1 = p.replace('<b>', '').replace('</b>', '').replace('<br/>','').replace('</p>', '').replace('<p>','').replace('\\n', ' ')\n",
    "                    \n",
    "                if is_uppercase_or_digit_or_punctuation(p1[:7]) and ':' in p1:\n",
    "                        # If there's an ongoing fragment, append it to fragments\n",
    "                    if current_fragment:\n",
    "                        fragment_html = ''.join(current_fragment)\n",
    "                        \n",
    "                        break\n",
    "                \n",
    "        \n",
    "                current_fragment.append(p)\n",
    "        \n",
    "\n",
    "            i_in_text = ('<i>' in fragment_html) or ('</i>' in fragment_html)\n",
    "        \n",
    "            fragment_html = fragment_html.replace('<b>', '').replace('</b>', '').replace('<br/>','').replace('</p>', '').replace('<p>','').replace('\\n', ' ').replace('<i>', '').replace('</i>', '').strip(' :><')\n",
    "            \n",
    "            #qus.append([fragment_html, len(fragment_html), i_in_text, date])\n",
    "\n",
    "\n",
    "            if (is_spanish_question(fragment_html) or  len(fragment_html) < 120 ) and (i_in_text == False):\n",
    "                \n",
    "                new_fragment_container[-1] = new_fragment_container[-1] + pregunta_tag[question_tag] + fragments_html_p[r]\n",
    "\n",
    "            else:\n",
    "                new_fragment_container.append(pregunta_tag[question_tag] + fragments_html_p[r])\n",
    "                \n",
    "                \n",
    "\n",
    "\n",
    "\n",
    "        # for a summary table\n",
    "        files_summary[date] = {'question_tag':question_tag, \n",
    "                               'n_b':n_b,\n",
    "                               'n_p':n_p,\n",
    "                               'n_bi':n_bi,\n",
    "                               'n_pi':n_pi,\n",
    "                                'n_q':len(new_fragment_container)}\n",
    "\n",
    "        # container with splitted questions\n",
    "        results[date] = {'question_tag': question_tag,\n",
    "                         'text': new_fragment_container}\n",
    "\n",
    "    \n",
    "    except:\n",
    "        \n",
    "        bad.append(date)\n",
    "\n",
    "print(bad)"
   ]
  },
  {
   "cell_type": "code",
   "execution_count": 5,
   "metadata": {},
   "outputs": [],
   "source": [
    "data_summary = pd.DataFrame.from_dict(files_summary, orient='index')\n",
    " "
   ]
  },
  {
   "cell_type": "code",
   "execution_count": 8,
   "metadata": {},
   "outputs": [],
   "source": [
    "data_summary['n_q']  = data_summary.n_q - 2"
   ]
  },
  {
   "cell_type": "code",
   "execution_count": 10,
   "metadata": {},
   "outputs": [],
   "source": [
    "data_summary.to_csv('questions_summary.csv', index=False)"
   ]
  },
  {
   "cell_type": "code",
   "execution_count": 11,
   "metadata": {},
   "outputs": [
    {
     "data": {
      "text/plain": [
       "<Axes: >"
      ]
     },
     "execution_count": 11,
     "metadata": {},
     "output_type": "execute_result"
    },
    {
     "data": {
      "image/png": "[encoded data removed]",
      "text/plain": [
       "<Figure size 640x480 with 1 Axes>"
      ]
     },
     "metadata": {},
     "output_type": "display_data"
    }
   ],
   "source": [
    "data_summary.n_q.hist()"
   ]
  },
  {
   "cell_type": "code",
   "execution_count": 31,
   "metadata": {},
   "outputs": [
    {
     "data": {
      "text/plain": [
       "7423"
      ]
     },
     "execution_count": 31,
     "metadata": {},
     "output_type": "execute_result"
    }
   ],
   "source": [
    "data_summary.n_q.sum()"
   ]
  },
  {
   "cell_type": "code",
   "execution_count": 35,
   "metadata": {},
   "outputs": [
    {
     "data": {
      "text/html": [
       "<div>\n",
       "<style scoped>\n",
       "    .dataframe tbody tr th:only-of-type {\n",
       "        vertical-align: middle;\n",
       "    }\n",
       "\n",
       "    .dataframe tbody tr th {\n",
       "        vertical-align: top;\n",
       "    }\n",
       "\n",
       "    .dataframe thead th {\n",
       "        text-align: right;\n",
       "    }\n",
       "</style>\n",
       "<table border=\"1\" class=\"dataframe\">\n",
       "  <thead>\n",
       "    <tr style=\"text-align: right;\">\n",
       "      <th></th>\n",
       "      <th>question_tag</th>\n",
       "      <th>n_b</th>\n",
       "      <th>n_p</th>\n",
       "      <th>n_bi</th>\n",
       "      <th>n_pi</th>\n",
       "      <th>n_q</th>\n",
       "    </tr>\n",
       "  </thead>\n",
       "  <tbody>\n",
       "    <tr>\n",
       "      <th>2022-02-16.html</th>\n",
       "      <td>b</td>\n",
       "      <td>1</td>\n",
       "      <td>0</td>\n",
       "      <td>12</td>\n",
       "      <td>0</td>\n",
       "      <td>1</td>\n",
       "    </tr>\n",
       "    <tr>\n",
       "      <th>2023-09-13.html</th>\n",
       "      <td>b</td>\n",
       "      <td>7</td>\n",
       "      <td>0</td>\n",
       "      <td>8</td>\n",
       "      <td>0</td>\n",
       "      <td>1</td>\n",
       "    </tr>\n",
       "    <tr>\n",
       "      <th>2021-12-04.html</th>\n",
       "      <td>b</td>\n",
       "      <td>1</td>\n",
       "      <td>0</td>\n",
       "      <td>10</td>\n",
       "      <td>0</td>\n",
       "      <td>1</td>\n",
       "    </tr>\n",
       "    <tr>\n",
       "      <th>2023-05-17.old.html</th>\n",
       "      <td>b</td>\n",
       "      <td>10</td>\n",
       "      <td>0</td>\n",
       "      <td>7</td>\n",
       "      <td>0</td>\n",
       "      <td>1</td>\n",
       "    </tr>\n",
       "    <tr>\n",
       "      <th>2022-04-08.old.html</th>\n",
       "      <td>b</td>\n",
       "      <td>1</td>\n",
       "      <td>0</td>\n",
       "      <td>3</td>\n",
       "      <td>0</td>\n",
       "      <td>1</td>\n",
       "    </tr>\n",
       "    <tr>\n",
       "      <th>...</th>\n",
       "      <td>...</td>\n",
       "      <td>...</td>\n",
       "      <td>...</td>\n",
       "      <td>...</td>\n",
       "      <td>...</td>\n",
       "      <td>...</td>\n",
       "    </tr>\n",
       "    <tr>\n",
       "      <th>2019-11-11.html</th>\n",
       "      <td>b</td>\n",
       "      <td>22</td>\n",
       "      <td>0</td>\n",
       "      <td>16</td>\n",
       "      <td>0</td>\n",
       "      <td>22</td>\n",
       "    </tr>\n",
       "    <tr>\n",
       "      <th>2019-07-30.html</th>\n",
       "      <td>b</td>\n",
       "      <td>25</td>\n",
       "      <td>0</td>\n",
       "      <td>24</td>\n",
       "      <td>0</td>\n",
       "      <td>23</td>\n",
       "    </tr>\n",
       "    <tr>\n",
       "      <th>2020-03-20.html</th>\n",
       "      <td>b</td>\n",
       "      <td>29</td>\n",
       "      <td>0</td>\n",
       "      <td>34</td>\n",
       "      <td>0</td>\n",
       "      <td>23</td>\n",
       "    </tr>\n",
       "    <tr>\n",
       "      <th>2019-11-12.html</th>\n",
       "      <td>b</td>\n",
       "      <td>33</td>\n",
       "      <td>0</td>\n",
       "      <td>15</td>\n",
       "      <td>0</td>\n",
       "      <td>28</td>\n",
       "    </tr>\n",
       "    <tr>\n",
       "      <th>2019-09-12.html</th>\n",
       "      <td>b</td>\n",
       "      <td>29</td>\n",
       "      <td>0</td>\n",
       "      <td>18</td>\n",
       "      <td>0</td>\n",
       "      <td>28</td>\n",
       "    </tr>\n",
       "  </tbody>\n",
       "</table>\n",
       "<p>1412 rows × 6 columns</p>\n",
       "</div>"
      ],
      "text/plain": [
       "                    question_tag  n_b  n_p  n_bi  n_pi  n_q\n",
       "2022-02-16.html                b    1    0    12     0    1\n",
       "2023-09-13.html                b    7    0     8     0    1\n",
       "2021-12-04.html                b    1    0    10     0    1\n",
       "2023-05-17.old.html            b   10    0     7     0    1\n",
       "2022-04-08.old.html            b    1    0     3     0    1\n",
       "...                          ...  ...  ...   ...   ...  ...\n",
       "2019-11-11.html                b   22    0    16     0   22\n",
       "2019-07-30.html                b   25    0    24     0   23\n",
       "2020-03-20.html                b   29    0    34     0   23\n",
       "2019-11-12.html                b   33    0    15     0   28\n",
       "2019-09-12.html                b   29    0    18     0   28\n",
       "\n",
       "[1412 rows x 6 columns]"
      ]
     },
     "execution_count": 35,
     "metadata": {},
     "output_type": "execute_result"
    }
   ],
   "source": [
    "data_summary[data_summary.n_q != 0].sort_values('n_q')"
   ]
  },
  {
   "cell_type": "code",
   "execution_count": 56,
   "metadata": {},
   "outputs": [],
   "source": [
    "# assign ordering of questions\n",
    "\n",
    "for date, qs in results.items():\n",
    "\n",
    "    results[date]['text'] = {i:qs['text'][i] for i in range(len(qs['text']))}\n",
    "\n",
    "        "
   ]
  },
  {
   "cell_type": "code",
   "execution_count": 57,
   "metadata": {},
   "outputs": [],
   "source": [
    "\n",
    "with open('questions.json', 'w', encoding='utf-8') as json_file:\n",
    "    json.dump(results, json_file)"
   ]
  },
  {
   "cell_type": "code",
   "execution_count": 12,
   "metadata": {},
   "outputs": [],
   "source": [
    "with open('questions.json', 'r') as json_file:\n",
    "\n",
    "    data = json.load(json_file)"
   ]
  },
  {
   "cell_type": "code",
   "execution_count": 15,
   "metadata": {},
   "outputs": [
    {
     "data": {
      "text/plain": [
       "dict_keys(['question_tag', 'text'])"
      ]
     },
     "execution_count": 15,
     "metadata": {},
     "output_type": "execute_result"
    }
   ],
   "source": [
    "data['2022-01-03.html'].keys()"
   ]
  },
  {
   "cell_type": "code",
   "execution_count": 17,
   "metadata": {},
   "outputs": [
    {
     "data": {
      "text/plain": [
       "{'0': '<div class=\"entry-content\">\\n<p><i>2022: Año de Ricardo Flores Magón, precursor de la Revolución Mexicana</i></p>\\n<p>',\n",
       " '1': '<p><b>PRESIDENTE ANDRÉS MANUEL LÓPEZ OBRADOR:</b> Muy buenos días. </p>\\n<p>Bueno, vamos a iniciar la semana y este año, que deseamos que sea muy bueno, bueno, bueno, buenísimo para todos los mexicanos y para todos los seres humanos, que sea un año con salud, con mucha felicidad, eso es lo que deseamos, y hay condiciones favorables para conseguir esos buenos propósitos. Estoy optimista. </p>\\n<iframe></iframe>\\n<figure><div>\\n<iframe></iframe>\\n</div></figure>\\n<p>Creo que ya pasó lo más difícil. El 2020 fue muy triste, difícil; sin embargo, salimos adelante, porque nuestro pueblo tiene una gran reserva de valores culturales, morales, espirituales, que cuando se necesita sale toda esa fortaleza cultural que siempre nos ha salvado.</p>\\n<p>El año pasado ya fue mejor y este apunta que nos va a ir muy bien en todos los terrenos, en todos los campos de la vida pública, sobre todo, y es lo que más deseamos, en salud, bienestar, en paz, en tranquilidad, en felicidad.</p>\\n<p>Y vamos a iniciar esta conferencia, primero, presentándoles a Jeremy Corbyn, que está con nosotros. Él, Jeremy, es parlamentario inglés. Somos amigos desde hace algún tiempo. Su esposa, Laura Álvarez, es mexicana, que también nos acompaña, ellos me invitaron cuando todavía era opositor a visitar el parlamento inglés, estuve en Londres, y nos identificamos porque Jeremy es defensor de causas justas, defensor de los trabajadores en el Reino Unido y ahora está de visita y lo invitamos para que sea testigo de cómo es este parlamento nuestro.</p>\\n<p>El parlamento inglés es algo extraordinario. Me invitó Jeremy a una sesión del parlamento y están pues a una distancia de un poco más de un metro, cara a cara conservadores y liberales, laboristas y el partido del gobierno ahora enfrente. </p>\\n<p>Este es un ejercicio que hacen un día a la semana. Y entonces ahí hay un debate, pero es un debate apasionado; desde luego, con argumentos, pero fuerte, cara a cara. Y esto viene de tiempo atrás. Hay un día para debatir y el primer ministro tiene que estar, es el que representa al partido en el gobierno y frente al dirigente del Partido Laborista, en ese tiempo Jeremy Corbyn. Era la señora Teresa May. Algo muy importante, la forma cómo se resuelven asuntos, se vota en el parlamento y constantemente están tratándose los asuntos. </p>\\n<p>Lo nuestro es también como un parlamento que tiene que ver con la información; es distinto, porque aquí no se acuerda nada, no tenemos facultades para eso, existe el Poder Legislativo, nuestro parlamento, la Cámara de Diputados, la Cámara de Senadores, ellos sí ahí debaten sobre estos temas que son de interés para los mexicanos.</p>\\n<p>Entonces, nos da mucho gusto que Jeremy y Laura estén aquí con nosotros. </p>\\n<p>Vamos, como lo hacemos todos los lunes, a informar sobre quién es quién en los precios, Ricardo Sheffield va a informar; luego, la licenciada Rosa Icela Rodríguez nos va a informar sobre cómo va el Tianguis del Bienestar y luego vemos los videos de las obras, y abrimos para preguntas y respuestas.</p>\\n<p>Muy bien.</p>\\n<p><b>RICARDO SHEFFIELD PADILLA, PROCURADOR FEDERAL DEL CONSUMIDOR:</b> Buenos días, señor presidente; buenos días a todas y a todos ustedes.</p>\\n<p>Feliz año 2022, un año con muchos éxitos, salud y prosperidad para todo México, para todo el pueblo mexicano.</p>\\n<p>Quién es quién en los combustibles. El precio promedio de la gasolina regular la semana pasada en nuestro país, 20 pesos con 72 centavos por litro, para la Premium 22 pesos con 69 centavos y el diésel 21 pesos con 89 centavos.</p>\\n<p>La mezcla mexicana de petróleo, el barril en dólares, con corte el 30 de diciembre, 71 dólares con 29 centavos. Pueden ver que hubo una tendencia al alza en el petróleo a nivel internacional, curiosamente en el gas LP no, eso lo estaremos viendo en un momento más.</p>\\n<p>Las tres marcas que dieron más caro en el país fue Redco, Lagas y Chevron; y las tres que dieron más barato: Exxon Mobil, que Exxon Mobil llama la atención había estado de la media hacia arriba y ha estado ya continuamente bajando sus precios, cosa que agradecemos los consumidores a Exxon Mobil; también Rendichicas y Orsan, que fue la que el año pasado ganó como la distribuidora más solidaria, que más apoya a los consumidores en México en el tema de gasolinas y diésel.</p>\\n<p>El precio más alto, con el margen más alto, para la gasolina regular lo presentó combustibles BP en El Carmen, Campeche, con un precio al público de 22 pesos 59 centavos por litro y un margen; estos angelitos, de tres pesos 54 centavos, y seguro no le pierden; más, cuando lo comparamos con los 33 centavos de G500 en Mérida, Yucatán, a 19.90 el litro precio al público.</p>\\n<p>Para la Premium, otra vez BP tiene el precio más alto, en esta ocasión en Cancún, en Benito Juárez, Quintana Roo, 24 pesos con nueve centavos por litro, un margen de tres pesos con 81 centavos, comparado con los 32 centavos de margen que tiene franquicia Pemex en La Paz, Baja California Sur, 21 pesos 70 centavos precio al público.</p>\\n<p>Y para el diésel ahora combustibles BP ha estado queriendo ser el más caro en todo el país, esta vez también en El Carmen, Campeche, 24 pesos 25 centavos por litro, 3.90 de margen, comparado con 25 centavos de margen de franquicia Pemex en Suichapa, Chiapas, 21 pesos 75 centavos es el precio al público por litro.</p>\\n<p>Y en el tema de verificaciones, atendimos 636. Hubo muchas quejas y denuncias a través de la app de Litro por Litro, que lo pueden descargar en Android o en iOS. Normalmente, al inicio del año nos ponemos a revisar cuáles apps usamos, cuáles no usamos, las empezamos a borrar, ojalá confirmen la de Litro por Litro y más las descarguen, hay más de 350 mil personas que lo tienen en sus celulares; 636 quejas, bastantes, que recibimos en esta temporada, en esta última semana del año, 190 visitas o verificaciones realizamos.</p>\\n<p>Una gasolinera no se dejó verificar y otra no se dejó poner los sellos de inmovilización, que todavía es más grave. Tlalnepantla, en el Estado de México, es Diésel Gasolinas, en Iguala y San Lucas; esta gasolinera no se dejó poner los sellos. Definitivamente no compren ahí porque tiene fallas serias y aparte vamos a volver a intervenir ahí, pero ya con apoyo de la Guardia Nacional. </p>\\n<p>Y se negó a ser verificada una en Venustiano Carranza, aquí en la Ciudad de México, Estaciones Ecológicas de Servicios, en Boulevard Puerto Aéreo, también para que los consumidores en Ciudad de México tomen nota de esta gasolinera que no se dejó verificar y que seguro está ocultando el que no da litros completos.</p>\\n<p>La gasolina regular, la más barata en la app, que no toma en cuenta el margen, 18.88 es de Mobil, en Puebla, Puebla; y también de Mobil, en Puebla, a 18.98. Y las más caras, 23 pesos 29 centavos de franquicia Pemex, en Tejupilco, Estado de México, y 22 pesos 59 centavos de BP en el Carmen, Campeche.</p>\\n<p>Para la Gasolina Premium, la más barata 20.99 en Soriana, Boca del Río, Veracruz, y 20.99 en Pemex, en Coatzacoalcos, Veracruz. Las más caras, 25.89 de Shell, en Cuauhtémoc, aquí en la Ciudad de México, y 24.98 de franquicia Pemex, en Mascota, Jalisco.</p>\\n<p>Para el diésel, la más barata, 19.85 de Mobil, en Tepatlaxco de Hidalgo, Puebla, y 20.25 de Mobil, en León, Guanajuato. Las más caras, 24.87 de franquicia Pemex, en Tejupilco, Estado de México, y 24.25 de BP de Carmen, Campeche.</p>\\n<p>Y seguimos también revisando el tema de los sanitarios, que de preferencia no cobren y sobre todo que los mantengan limpios, en buenas condiciones de uso.</p>\\n<p>En el gas LP, el precio internacional convertido a pesos y por kilos, esto es para cilindros de gas, sería con corte el 29 de diciembre, de 23 pesos con 76 centavos; sin embargo, el precio promedio en nuestro país de las 145 regiones de precios máximos, 22 pesos con 18 centavos.</p>\\n<p>Para tanque estacionario por litro, sería el 29 de diciembre el precio de 12 pesos 68 centavos, cuando el precio promedio de las 145 regiones es de 11 pesos con 92 centavos.</p>\\n<p>Y seguimos teniendo afortunadamente casos que dan por abajo del precio máximo de algunas regiones. Hay casos en Hidalgo, en Oaxaca, en Jalisco y en San Luis Potosí para tanque estacionario. Un ejemplo, Flamagas, en Zimapán, Hidalgo, 10.99 por litro.</p>\\n<p>Y tenemos también casos para cilindros de gas en Hidalgo, en Tlaxcala, en Yucatán, en Oaxaca y en el estado de Guerrero, que agradecemos sean solidarios, estén apoyando al consumidor. Otra vez Flamagas en Zimapán, Hidalgo, es el mejor ejemplo, 20 pesos 35 centavos, cuando el precio máximo es de 22 pesos 41 centavos.</p>\\n<p>Y en el tema de verificaciones de gas, la semana pasada realizamos 811 verificaciones o visitas, 806 resultaron sin ningún problema, nueve con infracciones, principalmente en el tema de los vehículos, fueron inmovilizados cinco vehículos y un 3.1 por ciento de los cilindros de gas, pero el 100 por ciento respetando los precios máximos, que ha sido una política muy atinada del señor presidente Andrés Manuel López Obrador.</p>\\n<p>Quién es quién en los productos de primera necesidad, y estos fueron compras realizadas este fin de semana, viernes, sábado e incluso algunas este domingo pasado, ayer por la mañana. Las más caras, tenemos ejemplo de Walmart Exprés, en León, Guanajuato, donde este paquete cuesta mil 46 pesos con 55 centavos. Son precios todos al menudeo y es exactamente el mismo producto, el mismo tipo de frijol, el mismo kilo de arroz, la misma botella de aceite comestible, de canola o de maíz.</p>\\n<p>El segundo lugar en más caras, Soriana Súper, en la Ciudad de México, en la delegación Benito Juárez, mil pesos con… mil nueve pesos con 60 centavos; Walmart en León, Guanajuato, ahora les cargaron las pulgas a mis paisanos, 986 pesos con 85 centavos, curioso porque la semana pasada mencionamos a Walmart como de los más baratos en esta región, yo creo que no quieren ser los baratos y le subieron para ser de los más caros, que no se pasen de rosca los de Walmart con mis paisanos; Central de Abastos es la opción más barata en Iztapalapa, en la Ciudad de México, este mismo paquete 745 pesos con 88 centavos.</p>\\n<p>Y las condiciones de venta en cada región son muy similares, por eso Banco de México dividió el país con sus estudios en estas cuatro regiones.</p>\\n<p>Chedraui, una muy buena opción, de las más económicas fuera de las centrales de abastos, particularmente en esta zona centro, tiene el mismo paquete en 858 pesos con 45 centavo.</p>\\n<p>Y Soriana Híper, en la Ciudad de México, en la Gustavo A. Madero, en 899 pesos con 35 centavos.</p>\\n<p>Para la zona centro norte, Soriana Híper, en La Paz, Baja California, a 965 pesos con 80 centavos; Walmart, en Zapopan, Jalisco, 964 pesos; Bodega Aurrerá, en Sinaloa, Culiacán, 955 pesos con 35 centavos.</p>\\n<p>Y los más económicos, Central de Abastos, en Guadalajara, Jalisco, 877 pesos con 89 centavos; y Soriana Híper, de Zacatecas, Zacatecas, y de Tonalá, Jalisco, en 912 pesos con 10 centavos y 917 pesos con 70 centavos, aquí los centavos sí cuentan. </p>\\n<p>En la zona norte, Ley, Vado del Río, en Hermosillo, Sonora, 974 pesos con 60 centavos la opción más económica de la zona norte; le sigue Walmart, de Monterrey, Nuevo León, como las más caras, 977 con 15 centavos; y Soriana Híper, en Saltillo, Coahuila, 958 pesos con 10 centavos.</p>\\n<p>Las más económicas, Central de Abastos, de Monterrey, Nuevo León, 740 pesos con 76 centavos; Bodega Aurrerá, en Saltillo, Coahuila, 877 pesos con 55 centavos; y S Mart, que no había aparecido —es 5 Mart y S Mart— en Chihuahua, en Ciudad Juárez, es una cadena regional, en 889 pesos con 97 centavos, qué bueno que sean solidarios con los consumidores, que nos apoyen a los consumidores, esta cadena regional. </p>\\n<p>Las más caras en la zona sur, para cerrar, Mega Soriana, en Acapulco, Guerrero, 978 pesos con 45 centavos; Mercado Soriana, en Oaxaca, Oaxaca, 958 pesos con 55 centavos, se supone que Mercado Soriana sería barato, no tienen por qué estar en los más caros; Soriana Híper, en Mérida, Yucatán, 957 pesos con 35 centavos.</p>\\n<p>Las opciones más económicas en esta zona sur, la Central de Abastos por tercera ocasión de Villahermosa, Tabasco, 795 pesos el paquete; Bodega Aurrerá en Mérida, Yucatán, 847 pesos con 45 centavos; y Walmart en Mérida, Yucatán, 859 pesos con 90 centavos.</p>\\n<p>Muchas gracias.</p>\\n<p>Feliz año.</p>\\n<p><b>ROSA ICELA RODRÍGUEZ VELÁZQUEZ, SECRETARIA DE SEGURIDAD Y PROTECCIÓN CIUDADANA:</b> Con su permiso, señor presidente. Muy buenos días a todas y todos. Feliz año nuevo.</p>\\n<p>Vamos a dar los avances del Tianguis del Bienestar en los estados de Guerrero y Veracruz. Adelante.</p>\\n<p>Cumpliendo con la instrucción del señor presidente de México, para distribuir bienes y artículos básicos que han sido confiscados, incautados y decomisados a la delincuencia, y esto se hace, esta acción consiste en llevar a las poblaciones más humildes del país los artículos de forma gratuita, devolviendo lo que por derecho les corresponde, en lo que va del año se han atendido en completa calma, sin problema, un total de 85 mil cuatro familias en 21 municipios de extrema pobreza en La Montaña de Guerrero, en la Sierra de Zongolica y también en la Huasteca Baja de Veracruz, donde se han entregado de forma gratuita más de 3.5 millones de artículos nuevos.</p>\\n<p>Se tiene proyectado que de enero a marzo de 2022 se visiten 40 municipios en la zona mixteca y posteriormente en abril se visiten municipios en Los Altos de Chiapas.</p>\\n<p>Aquí está el resumen municipio por municipio. En el estado de Guerrero, 14 se llevan al momento, se va a regresar a esta misma entidad por instrucción del señor presidente, y se llevan entregados a 2.9 millones de bienes en este estado.</p>\\n<p>Y en el estado de Veracruz se llevan siete municipios con 26 mil 880 familias beneficiadas y los bienes entregados, 623 mil 314. Decíamos que es un total de 85 mil familias y tres millones 571 mil bienes entregados, totalmente nuevos y gratuitos.</p>\\n<p>Aquí están algunas imágenes de las zonas en Veracruz, también en Guerrero, hemos estado en Olinalá, Alcozauca, Copanatoyac.</p>\\n<p>Y también, por la misma instrucción, se hicieron donaciones de 56 congeladores en los 14 municipios del estado de Guerrero que serán utilizados en comedores comunitarios y en los centros de salud de la región.</p>\\n<p>También se hizo una donación de sillas y mesas con mobiliario para las escuelas, en una primaria, en Soledad Atzompa, en Veracruz, y también en otra primaria indígena del municipio de Tehuipango, en Veracruz.</p>\\n<p>Es muy importante agradecer a todas las instancias y los servidores públicos que han ayudado a que este programa se lleve a cabo. Y quiero dar las gracias al entusiasmo con que todos han participado, desde la Secretaría Particular del presidente de México, la Secretaría de la Defensa Nacional, también la Secretaría de Hacienda y Crédito Público a través del Instituto para Devolver al Pueblo lo Robado, y también del Servicio de Administración Tributaria, así como la Agencia Nacional de Aduanas de México.</p>\\n<p>Hay que decir que siempre estamos siendo acompañados por un notario y también por la Secretaría de la Función Pública, que están revisando, participando, supervisando, que todo se lleve a cabo con completa transparencia.</p>\\n<p>Asimismo, hemos contado con la participación y el apoyo del gobierno de Veracruz, así como del gobierno del estado de Guerrero; asimismo, los gobiernos municipales y las autoridades locales. </p>\\n<p>Adelante. Aquí están los municipios programados de Oaxaca, 40 municipios, de acuerdo también a las estadísticas de pobreza y se van a beneficiar ahí a 26 mil familias.</p>\\n<p>En el caso de los municipios de Chiapas, estos son los que se van a atender con alrededor de 120 mil familias.</p>\\n<p>Lo que quiero decir, finalmente, es que en el caso de los municipios que están programados, tanto en Oaxaca como en Chiapas, que por favor nos esperen a que hagamos el llamado de manera oficial, se les hace casa por casa, y duramos varios días en la comunidad porque vamos a las comunidades más grandes, no solamente a la cabecera del municipio, sino que estamos visitando algunas para facilitar el acceso.</p>\\n<p>Y si nos permite un video, señor presidente, con eso terminaríamos esta participación.</p>\\n<p>Gracias. Feliz año.</p>\\n<p><b>(INICIA VIDEO)</b></p>\\n<p><b><i>VOZ HOMBRE:</i></b><i> El Tianguis del Bienestar dio inicio en La Montaña de Guerrero con el objetivo de resarcir una deuda histórica con la población más vulnerable. Como en el municipio de Cualác, el estado de Guerrero, donde la mañana del 12 de noviembre un equipo de funcionarios comprometidos en realizar esta acción acudieron a la vivienda de la señora Gorgonia, una adulta mayor de 98 años de edad, quien no pudo acudir de manera presencial a recibir sus bienes ya que se encuentra en situación de abandono. Dice vivir con tristeza y dolencia, acompañada de nueve gatitos.</i></p>\\n<p><b><i>CLARA ESTHER ORTEGA GUZMÁN:</i></b><i> Soy la señora Clara Esther Ortega Guzmán. Yo soy de aquí de Cualác, originaria. Yo vengo todos los días a dejarle su, su… pues un taquito porque ella, en las condiciones en que vive, pues no tiene a nadie. Son sus gatos, estos nueve gatos con los que vive, ella vive.</i></p>\\n<p><b><i>VOZ HOMBRE:</i></b><i> ¿Desde hace cuánto le trae a esta señora?</i></p>\\n<p><b><i>CLARA ESTHER ORTEGA GUZMÁN:</i></b><i> Yo digo que ya son como unos 25 años. Ella todavía estaba fuertecita, pero ahorita pues ya ella no sale para nada.</i></p>\\n<p><b><i>VOZ HOMBRE:</i></b><i> El Tianguis del Bienestar distribuye de forma gratuita artículos nuevos confiscados y/o decomisados como telas, ropa, calzado, juguetes, utensilios y herramientas del hogar, entre otros, que hoy están en centenares de bodegas donde no se están aprovechando y se pagan altos costos por almacenaje.</i></p>\\n<p><i>Doña Gorgonia se despide agradecida y desea mucha vida y salud. Da bendiciones para el buen regreso a casa.</i></p>\\n<p><b><i>DOÑA GORGONIA:</i></b><i> Así que muchas gracias por todos los beneficios que nos trae aquí al lugar, como yo que soy (inaudible), más agradecidas por todos los beneficios que nos traen a nuestro lugar.</i></p>\\n<p><b><i>VOZ HOMBRE:</i></b><i> Hasta el momento se han beneficiado a más de 85 mil familias a quienes se les ha entregado gratuitamente bienes nuevos.</i></p>\\n<p><i>Las dependencias que conforman este esfuerzo han podido mostrar su entusiasmo y vocación de servicio con esta acción de gran impacto.</i></p>\\n<p><i>Los esfuerzos se redoblarán para seguir atendiendo a las zonas que más lo necesitan. </i></p>\\n<p><b>(FINALIZA VIDEO)</b></p>\\n<p><b>PRESIDENTE ANDRÉS MANUEL LÓPEZ OBRADOR: </b>Pues, vamos a los videos.</p>\\n<p><b>(INICIA VIDEO <i>AVANCES EN LA CONSTRUCCIÓN DEL AEROPUERTO INTERNACIONAL ‘GENERAL FELIPE ÁNGELES’</i>)</b></p>\\n<p><b><i>VOZ MUJER:</i></b><i> La Secretaría de la Defensa Nacional informa los avances en la construcción del Aeropuerto Internacional ‘Felipe Ángeles’ al 3 de enero de 2022.</i></p>\\n<p><i>En la pista norte y central plataforma y rodajes, en las calles de rodaje y plataformas se realizan los trabajos de tendido de concreto de alta resistencia, aplicación de pintura en pistas y calles de rodaje para el señalamiento horizontal, así como la colocación de bases y luminarias para los sistemas de luces.</i></p>\\n<p><i>En la interconexión vial tramo Caseta Tultepec-Santa Lucía se realizan trabajos de jardinería, colocación de pasto en camellón central y sembrado de plantas en la superficie inclinada en vialidad.</i></p>\\n<p><i>En la terminal de pasajeros se continúa con la colocación de módulos de vidrio en fachada y pórticos de acceso, además del montaje de estructura, plafón y pintura de muro monumental e isla de documentación, así como los acabados de locales comerciales y rampas de acceso.</i></p>\\n<p><i>En el eje troncal de circulación y obras complementarias, en la glorieta de acceso se realizan trabajos en jardineras, colocación de adoquín y paisajismo, mientras que en el parque anexo se continúa el montaje de estructura de acero y el pulido para exterior del paso a desnivel hacia glorieta.</i></p>\\n<p><i>En la vialidad y barda perimetral, permanece la colocación de la reja galvanizada con picos de seguridad y se ejecuta el montaje de luminarias en vialidad, así como pintura para su señalización.</i></p>\\n<p><i>A la fecha se han generado 140 mil 668 empleos civiles bajo el control, dirección y supervisión de 195 militares.</i></p>\\n<p><i>Faltan 77 días de construcción.</i></p>\\n<p><b>(FINALIZA VIDEO)</b></p>\\n<p><b>(INICIA VIDEO <i>AVANCES EN LA CONSTRUCCIÓN DE LA REFINERÍA DOS BOCAS ‘OLMECA’</i>)</b></p>\\n<p><b><i>ROCÍO NAHLE GARCÍA, SECRETARIA DE ENERGÍA:</i></b><i> Es 31 de diciembre y estamos concluyendo el año con un avance del 74 por ciento de la refinería de Dos Bocas. Todos los ingenieros que han estado supervisando, que han estado trabajando han hecho de este año un gran esfuerzo para que esta refinería sea una realidad para los mexicanos. El año que entra vamos a concluir esta magna obra, una obra que va a servir para todo el pueblo de México. </i></p>\\n<p><i>Ahora sí, desearles lo mejor para el próximo año. Vámonos recio.</i></p>\\n<p><b><i>VOZ HOMBRE:</i></b><i> Esta semana se llevó a cabo el traslado vía heavy route de dos intercambiadores del efluente del reactor en el tren 2 de proceso de la planta hidrotratadora de naftas, así como su maniobra de montaje en el sitio.</i></p>\\n<p><i>En el área de proceso se recibieron los serpentines del reformador de hidrogeno y se instaló el separador condensado de baja presión en la planta coquizadora. Asimismo, continúa el montaje y acondicionamiento de plataformas y escaleras de servicio en los equipos instalados en las diversas plantas químicas.</i></p>\\n<p><i>Se avanza en el armado de pórticos transversales y colocación de láminas de las torres de enfriamiento y se trabaja en la obra civil y equipamiento de las 39 subestaciones eléctricas, se construyen también las bases estructurales de las áreas de efluentes y cogeneración.</i></p>\\n<p><i>Se reporta desde el puerto de la República de Corea el embarque de los módulos BAR004 y 005 para la planta catalítica que construye la compañía Samsung.</i></p>\\n<p><i>En el área de almacenamiento se trabajan dobles turnos en actividades de soldadura y armado de domos geodésicos, y continúa la integración de tubería de servicios.</i></p>\\n<p><i>En el cuarto de control avanza el trabajo de armado en su interior y se trabaja en soldadura en estructura de soporte para cristales en fachadas de laboratorio.</i></p>\\n<p><i>En el edificio Telecomm se realiza el detallado de perfil de azotea y de domo.</i></p>\\n<p><i>Continúa la instalación de tuberías en los racks de integración y en el acueducto y gasoducto se realizan trabajos de soldadora en su armado para su integración y así brindar servicios de agua y gas a la refinería.</i></p>\\n<p><i>El avance físico de construcción, ingeniería, procura, armado e integración al cierre de este año 2021 es del 74 por ciento.</i></p>\\n<p><i>En el vivero continúa el cultivo de plantas de ornato que se trasplantan a las áreas verdes de la refinería Olmeca en el puerto de Dos Bocas.</i></p>\\n<p><b>(FINALIZA VIDEO)</b></p>\\n<p><b>(INICIA VIDEO <i>AVANCES EN LA CONSTRUCCIÓN DEL TREN MAYA</i>)</b></p>\\n<p><b><i>VOZ MUJER:</i></b><i> Tren Maya, reporte de avances, 3 de enero del 2022.</i></p>\\n<p><i>En el tramo 1, en Tenosique, Tabasco, avanzamos con la construcción de obras de drenaje longitudinal con trabajos como el finalizado del colado y acabado de cunetas, avanzamos dos mil 60 metros lineales. Esta obra se realiza a lo largo del terraplén finalizado, del cual ya llevamos 81 kilómetros y tenemos 60 en ejecución. </i></p>\\n<p><i>En El Triunfo, Balancán, continuamos con la recepción de balasto proveniente de Veracruz, ya tenemos acumulados 13 mil 295 metros cúbicos del material.</i></p>\\n<p><i>En el tramo 2, en la sección que conecta Tenabo y Pomuch, avanzamos con los trabajos de terracerías con actividades de abastecimiento de subrasante y labores de despalme. </i></p>\\n<p><i>En el tramo 3 continuamos con la construcción simultánea de pasos vehiculares en Euán, San Bernardo, Chocho, Poxilá y Hoctún. Avanzamos con actividades de cimbrado y habilitado de acero para diferentes trepados, tenemos en ejecución 15 pasos vehiculares a lo largo del tramo. </i></p>\\n<p><i>En el tramo 4, en la carretera Kantunil-Cancún, avanzamos con trabajos de excavación y afinado de subrasante para la ampliación de la carretera.</i></p>\\n<p><i>A lo largo de la carretera también estamos construyendo los pasos ganaderos acordados con las comunidades de la zona, avanzamos con actividades y habilitado de acero y la construcción del muro de contención. </i></p>\\n<p><i>Además de estas estructuras que sirven para grandes mamíferos, estamos construyendo 58 obras de drenaje transversal que también servirán como pasos de pequeños vertebrados.</i></p>\\n<p><i>Los empleos generados por el Tren Maya en el sureste de México ya suman 92 mil 50.</i></p>\\n<p><i>El Tren Maya avanza.</i></p>\\n<p><b>(FINALIZA VIDEO)</b></p>\\n<p><b>(INICIA VIDEO <i>AVANCES EN LA CONSTRUCCIÓN DEL TREN INTERURBANO MÉXICO-TOLUCA</i>)</b></p>\\n<p><b><i>VOZ MUJER:</i></b><i> Construcción del Tren Interurbano México-Toluca. Reporte semanal.</i></p>\\n<p><i>Vía catenaria y obra electromecánica. Avance: 47 por ciento.</i></p>\\n<p><i>Instalación de catenaria. Continúa la instalación de postes para el sistema de catenaria. Algunos cuentan con retenidas de acero ancladas a la losa para contrarrestar las tensiones mecánicas de los conductores sobre las estructuras.</i></p>\\n<p><i>Instalación de vía. Concluyó el armado del acero de refuerzo para los plintos de concreto en los 36 kilómetros de la vía izquierda del tramo 1 para después colocar y nivelar sobre el acero armado los tramos de riel que formarán la vía en el kilómetro 34 del viaducto 4.</i></p>\\n<p><i>Tramo 3, 17 kilómetros. Avance de obra: 53.8 por ciento.</i></p>\\n<p><i>Frente 1. Se han colocado cuatro de las ocho trabes prefabricadas de concreto sobre los apoyos para el cruce sobre el primer cuerpo de la autopista México-Toluca. Estas maniobras de montaje se realizan por la noche para minimizar las afectaciones a los</i> <i>usuarios de la carretera. Este viaducto es la transición entre las vías separadas del bitúnel y las vías paralelas.</i></p>\\n<p><i>Viaducto mixto 1. Las primeras secciones metálicas de este viaducto ya se encuentran a un costado de la autopista para su ensamblado y posterior unión por medio de la soldadura.</i></p>\\n<p><i>Estación Vasco de Quiroga. Concluyó el armado del acero de refuerzo en el apoyo 9 de la estación. Al mismo tiempo, se arman los apoyos 7 y 8 y continúa la perforación de la última pila del apoyo 3.</i></p>\\n<p><i>El Tren Interurbano producirá un importante efecto en el desarrollo económico regional y sustanciales ahorros en costos de traslado, tiempos de viaje y disminución de contaminantes.</i></p>\\n<p><i>Secretaría de Infraestructura, Comunicaciones y Transportes.</i></p>\\n<p><b>(FINALIZA VIDEO)</b></p>\\n<p><b>(INICIA VIDEO <i>AVANCES EN LA CONSTRUCCIÓN DEL CORREDOR INTEROCEÁNICO DEL ISTMO DE TEHUANTEPEC</i>)</b></p>\\n<p><b><i>VOZ MUJER:</i></b><i> La estrategia del Programa Istmo plantea dos proyectos como ejes detonadores de la economía y el desarrollo social en el Istmo de Tehuantepec, la plataforma logística del Corredor Interoceánico y 10 polos de desarrollo.</i></p>\\n<p><i>A continuación, se informa el avance de obras a 3 de enero de 2022.</i></p>\\n<p><i>En el puerto de Salina Cruz colamos piezas prefabricadas de concreto para la construcción de 1.6 kilómetros del Rompeolas Oeste. Al día de hoy hemos colado el 51 por ciento de los elementos necesarios, los cuales van de las 16 a las 19 toneladas.</i></p>\\n<p><i>La rehabilitación de las vías en el ferrocarril del Istmo de Tehuantepec continúa.</i></p>\\n<p><i>En el tramo 1 trasladamos el nuevo balasto al banco de almacenamiento temporal, ubicado en la localidad de Medias Aguas, Veracruz, con la ayuda de camiones de volteo repartimos el balasto a las orillas de la vía.</i></p>\\n<p><i>En el tramo 2 compactamos el terreno para aumentar la estabilidad y la capacidad de soporte de la nueva plataforma; además, rehabilitamos el drenaje.</i></p>\\n<p><i>En el tramo 4 colocamos y alineamos la vía armada; asimismo, llevamos a cabo la remodelación de la estación de Ciudad Ixtepec.</i></p>\\n<p><i>En el tramo 5 continuamos en el desmantelamiento de la vía antigua. Al mismo tiempo, comenzamos con las acciones para la rehabilitación de 15 kilómetros de libramiento de Tehuantepec, así como la conexión con la refinería de Salina Cruz.</i></p>\\n<p><i>Complementando estos proyectos se encuentran en marcha programas para fortalecer las actividades productivas locales que contribuyen a interconectar el valor y la capacidad de generar ingresos para las y los habitantes de la región.</i></p>\\n<p><b>(FINALIZA VIDEO)</b></p>\\n<p><b>(INICIA VIDEO <i>AVANCES EN LA CONSTRUCCIÓN DE LA PRESA ‘SANTA MARÍA’</i>)</b></p>\\n<p><b>VOZ MUJER:</b> La Comisión Nacional del Agua informa el avance en la construcción de la presa Santa María Proyecto Baluarte-Presidio.</p>\\n<p>La presa tiene un avance físico de 38 por ciento. En el portal de entrada se han concluido las desembocaduras de los túneles 1 y 3, y continúa la colocación de acero de refuerzo, cimbra y concreto hidráulico en la embocadura del túnel 2. Asimismo, continúa la colocación de marcos metálicos.</p>\\n<p>De igual forma, se realizaron pruebas en seco en la embocadura del túnel 1, colocando un módulo de 4.5 metros de altura de los obturadores. Esto permitirá que la instalación final y deslice de los obturadores en los marcos metálicos se realicen según lo previsto.</p>\\n<p>En el túnel 2 continúa la excavación de la sección inferior, la colocación e inyección de anclas de fricción, de concreto lanzado y de empaque para columnas metálicas; asimismo, se lleva a cabo la colocación de concreto de empaque y de columnas metálicas en la sección inferior de la caverna.</p>\\n<p>En el túnel 3 se realiza el retiro del material producto de las excavaciones en donde se llevó a cabo la conexión de los dos frentes del túnel, así como la colocación de concreto lanzado, marcos metálicos y concreto de empaque en la sección superior. </p>\\n<p>De igual forma, se realiza la colocación de malla electrosoldada y concreto de empaque para columnas metálicas en la caverna. Una vez cumplido su objetivo, se realiza el sellado del túnel crucero que comunica a los túneles 1 y 2 mediante la colocación de concreto hidráulico. </p>\\n<p>El túnel crucero que comunica a los túneles 2 y 3 continúa en operación, permitiendo el acceso a equipos, maquinaría y personal. </p>\\n<p>En la ataguía aguas arriba continúa la colocación y compactación de material de respaldo y la colocación de enrocamiento de protección. De igual forma, se lleva a cabo la colocación de acero de refuerzo de concreto para los brocales en la zona en donde será colocado el material geocompuesto, así como la construcción de bordillos que contribuirán a este mismo fin.</p>\\n<p>Sobre la margen izquierda de la cortina se realiza el retiro de material producto de las excavaciones, la colocación de malla electrosoldada y de concreto lanzado sobre taludes. En la margen derecha se realiza la excavación con uso de explosivos y la carga y acarreo del material producto de la excavación.</p>\\n<p>A la fecha se han generado tres mil 423 empleos en la construcción de la presa.</p>\\n<p><b>(FINALIZA VIDEO)</b></p>\\n<p><b>PRESIDENTE ANDRÉS MANUEL LÓPEZ OBRADOR:</b> Miren, este año, antes, está dedicado a Ricardo Flores Magón, porque hace 100 años fue… Hay dos versiones: </p>\\n<p>Una, de que fue asesinado en su celda, en Estados Unidos.</p>\\n<p>Y otra, que murió por un infarto. </p>\\n<p>Se estaba haciendo un trámite para su liberación, era en ese entonces Álvaro Obregón presidente de México. </p>\\n<p>Ricardo Flores Magón, sin duda, el dirigente social de más firmes convicciones. Mucho tiempo de su vida lo vivió en la cárcel. Y en 1922 encontraron su cuerpo en la celda, ya estaba a punto de salir. Se trajo su cuerpo. </p>\\n<p>Para que tengamos una idea de la importancia de este dirigente, que fue de los precursores de la Revolución mexicana, él fue participante en la fundación del Partido Liberal, participó también en la convención liberal en 1904, en pleno porfiriato, con el periódico <i>El Hijo del Ahuizote</i> se manifestaron en contra de Porfirio Díaz, y aquí cerca donde estaba la imprenta del <i>El Hijo del Ahuizote</i>.</p>\\n<p>Un 5 de febrero pusieron una manta que decía: ‘La Constitución ha muerto’, y a partir de ahí decidieron irse a Estados Unidos para protegerse y seguir luchando, y allá el movimiento magonista, pues creó el periódico <i>Regeneración</i> y formaron cuadros. Enviaban el periódico a las fábricas. Los trabajadores que iniciaron la huelga de Cananea, en 1906, tenían formación magonista, los dirigentes de esa huelga eran magonistas, Esteban Baca Calderón y otros. </p>\\n<p>En 1906 escriben el plan liberal, que yo lo recomiendo, porque es vigente. Yo pienso que hay que leer tres planes en la historia, o dos básicos: el plan liberal de 1906, por su profundidad; el plan sexenal, cuando iniciaba el presidente Cárdenas la presidencia de la República; y agregaba otro, que es el plan nuestro, pero dejemos ese aparte, pensemos en este plan de 1906.</p>\\n<p>Luego, por las circunstancias, porque los encarcelaban, los querían asesinar, ellos fueron radicalizándose y llamaron antes que Francisco I. Madero a tomar las armas en contra de la dictadura porfirista.</p>\\n<p>Desde luego, antes de ellos ya había llamado a tomar las armas otro dirigente que no hay que olvidar, Catarino Garza; en 1892 lazó una proclama y organizó un grupo para enfrentar la dictadura porfirista, desde Texas, imagínense. Y ellos lo hicieron en 1906, luego lo repitieron en el 8 y es Francisco I. Madero el que logra levantar al pueblo en armas en la convocatoria de 1910.</p>\\n<p>Por eso este año es dedicado a Ricardo Flores Magón.</p>\\n<p>Cuando lo traen, en todas las estaciones del tren se llevaron a cabo mítines. Y los obreros, sobre todo los ferrocarrileros, porque en ese entonces tenía mucha fuerza el movimiento ferrocarrilero, el movimiento obrero, le hicieron un gran homenaje a este dirigente, olvidado durante mucho tiempo por sus posturas radicales, anarquistas, pero de un anarquismo muy bueno, social, que aportó muchísimo, fueron ellos los precursores del movimiento revolucionario, originarios de Oaxaca. Así como existe la Sierra Norte de Oaxaca, que se le conoce como la Sierra Juárez, ellos nacieron en la Sierra Mazateca, en Juárez, digo, en Oaxaca, y yo he dicho que esa sierra debería de llamarse ‘la sierra de los hermanos Flores Magón’, así como la Sierra Norte se llama la Sierra Juárez.</p>\\n<p>Flores Magón y Benito Juárez, o Benito Juárez primero, su papá fue juarista, el papá de los hermanos Flores Magón. </p>\\n<p>Entonces, este año en toda la papelería oficial va a aparecer su retrato y este recordatorio: ‘Precursor de la Revolución mexicana.’</p>\\n<p>Termino, y antes de dar la palabra, también otra información: deseo que salga bien su intervención, porque lo hospitalizaron, al presidente Bolsonaro, de Brasil, deseo que salga bien, que se recupere.</p>\\n<p>Y ahora sí, empezamos.</p>\\n<p>',\n",
       " '2': '<p><b>PREGUNTA</b>: Buenos días, señor presidente. </p>\\n<p>Janet Galindo, de Grupo Transmedia,<i> La Chispa</i>. </p>\\n<p>Antes que nada, feliz año, y a todas las personas, a los secretarios y las personas visitantes.</p>\\n<p>Este año que iniciamos la Cuatro T tiene un gran compromiso. Empezamos con la entrega del aeropuerto ‘Felipe Ángeles’. Y a 77 días ¿cuál es su punto de vista? Usted se comprometió que entregaba el aeropuerto para el 21 de marzo. ¿Sigue en pie todavía esta propuesta?, porque ya sabe que hay mucha —sobre todo los opositores— mucha incredulidad. Entonces, quisiera saber cuál es su punto de vista.</p>\\n<p><b>PRESIDENTE ANDRÉS MANUEL LÓPEZ OBRADOR:</b> Bueno, pues este año va a ser muy importante porque vamos a entregar dos grandes obras, dos obras muy necesarias:</p>\\n<p>Se va a terminar el aeropuerto ‘Felipe Ángeles’ el día 21 de marzo. Acabamos de ver el avance, llevan 78 por ciento, pero están trabajando día y noche. Es una gran obra que va a ser la obra realizada en los últimos tiempos en el mundo en menos tiempo, de calidad y a un costo muy bajo.</p>\\n<p>Va a invertirse en el aeropuerto ‘Felipe Ángeles’ alrededor de 75 mil millones de pesos, cuando el proyecto del lago de Texcoco, esto hay que tenerlo presente, se estimaba en 300 mil millones de pesos y no lo iban a terminar en el tiempo que se está terminando el aeropuerto ‘Felipe Ángeles’; en sus planes estaba para terminarse en el 2025 si se cumplía con el programa. </p>\\n<p>Y, también, el estimado era de 300 mil millones y ustedes saben que así estimaron otras obras, que fueron aumentando, aumentando, aumentando y costaron hasta dos, tres veces más.</p>\\n<p>Entonces, vamos a demostrar que se puede hacer un gobierno distinto cuando hay honestidad, porque esa es la clave de todo.</p>\\n<p>Si se hacen obras como antes, con contratistas predilectos, favoritos, por lo general con empresas extranjeras que venían a saquear, como las empresas españolas, no todas desde luego, pero Repsol, una empresa española famosísima, era la consentida de Felipe Calderón y les dio a ganar miles de millones de pesos.</p>\\n<p>Y luego con el presidente Peña Nieto la OHL. No. ¿Cómo se llamaba la empresa?</p>\\n<p><b>INTERLOCUTOR:</b> OHL.</p>\\n<p><b>PRESIDENTE ANDRÉS MANUEL LÓPEZ OBRADOR:</b> OHL, sí, pero la Higa de México, pero la OHL también famosísima en España relacionada con lo más alto del poder de ese país. </p>\\n<p>Entonces, ya no es así, por eso se va a terminar el aeropuerto que está a cargo de los ingenieros militares, que están ayudando mucho en la transformación del país. Si no nos hubiésemos apoyado en la Secretaría de la Defensa y en la Secretaría de Marina, no hubiésemos podido avanzar en la transformación de México, son dos pilares esas instituciones del Estado mexicano.</p>\\n<p>Y tenían como función contribuir al progreso de México y no llevaban a cabo esa labor, no les daban oportunidad de despegar, de llevar a la práctica esa acción, era nada más labores de defensa, protección de la política interior —que sí era una labor importante, y sigue siendo— el apoyo a la población en caso de desastre, el Plan DN-III, para el Ejército, y el Plan Marina, para la Secretaría de Marina.</p>\\n<p>Pero la Secretaría de la Defensa tenía también, además de esas funciones, la de contribuir al desarrollo económico y el progreso de México, y no eran utilizados, no se les convocaba a participar.</p>\\n<p>Ahora la Secretaría de la Defensa Nacional, también la Secretaría de Marina, están manejando recursos para obras como nunca en la historia y están cumpliendo, por eso vamos a terminar en tiempo el día 21. </p>\\n<p>Y tienen otras obras. De las grandes, vamos a inaugurar este año el aeropuerto. Ojalá y los que hablaron y escribieron de que íbamos a fracasar y que no íbamos a terminar a tiempo, y que se había tomado una mala decisión al cerrar, al clausurar el proyecto del lago de Texcoco terminen reconociendo de que fue lo mejor, que nos salvó el pueblo, que eso es lo importante de la democracia, porque se hizo una consulta y el pueblo dijo ‘no’ al aeropuerto del lago de Texcoco.</p>\\n<p>Si se hubiese construido ese aeropuerto en el Lago de Texcoco, si hubiésemos continuando con ese proyecto, hubiese sido una tragedia, porque es la parte más baja, más fangosa de todo el Valle de México, se esmeraron en escoger el peor lugar.</p>\\n<p>Pero no les importaba eso, porque lo que querían era hacer un gran negocio cerrando el actual aeropuerto para llevar a cabo un desarrollo inmobiliario como Santa Fe. Ya se frotaban las manos. Compraron terrenos donde se iba a hacer el nuevo aeropuerto, más el terreno del nuevo aeropuerto. Era una avenida en lo que es la pista central del actual aeropuerto hasta el nuevo y ya estaban pensando lo que iba a costar tener un terreno ahí. Además, iban a cerrar también el aeropuerto de Santa Lucía, la base aérea, dos aeropuertos. Fue una buena decisión.</p>\\n<p>La otra obra que vamos a terminar, que también dicen que no se podía, pues llevaban más de 40 años de no hacer una refinería, vamos a terminar este año también la refinería de Dos Bocas. Ahí es la ingeniería civil. </p>\\n<p>Y quiero hacer aquí un reconocimiento a Rocío Nahle, la ingeniera Rocío Nahle, que es la responsable de la obra, al mismo tiempo secretaria de Energía, que está ahí. Así como está el general Vallejo de jefe de construcción en el aeropuerto de Santa Lucía, así está Rocío Nahle con la responsabilidad.</p>\\n<p>Y también esa refinería se va a terminar y vamos a poder procesar 340 mil barriles diarios de petróleo crudo que estamos extrayendo en esa región del sureste. Esto va a significar que ya no vamos a comprar las gasolinas, el diésel en el extranjero, vamos a ser autosuficientes; y significa también que ya no vamos a vender petróleo crudo, vamos a extraer sólo lo necesario para abastecer el consumo interno. </p>\\n<p>Esas dos obras las vamos a concluir. </p>\\n<p>Y en el 23, el año próximo, vamos a terminar el proyecto del istmo y se va a terminar a finales del 23 el Tren Maya, mil 500 kilómetros de vías férreas.</p>\\n<p>También el año próximo —se me estaba pasando— terminamos el Tren Toluca-Ciudad de México.</p>\\n<p>El 23 terminamos la presa Santa María.</p>\\n<p>Terminamos todos los canales de riego de Nayarit.</p>\\n<p>Terminamos, también para el 23, canales de riego en la presa Picacho.</p>\\n<p>Vamos a dejar 100 mil hectáreas de riego para apoyar la actividad agrícola en Sinaloa, en Nayarit, en Sonora, porque se va a terminar a finales del 23 el distrito de riego de los pueblos yaquis. Son los compromisos que tenemos. Pero este año el objetivo es aeropuerto, la refinería y el Tren Toluca-Ciudad de México.</p>\\n<p><b>INTERLOCUTORA:</b> Gracias.</p>\\n<p>Y, rapidísimo, ¿qué regalo dejarán los Reyes Mayos, la 4T, en el sureste de México a la niñez mexicana y a los mexicanos?</p>\\n<p><b>PRESIDENTE ANDRÉS MANUEL LÓPEZ OBRADOR:</b> Bueno, el regalo para las niñas, para los niños, pues es su beca, ese es el regalo de los Reyes, eso es lo que va a traer Melchor, Gaspar y Baltazar. Nada más que hagan la cartita, de todas maneras.</p>\\n<p>Porque se va a ampliar el programa de becas para los niños, para las niñas, y para niñas y niños, que eso es muy satisfactorio, nos llena de orgullo, porque es muy humano, todos los niños y niñas de México con discapacidad van a tener su pensión, ya ahora son todos los niños y niñas pobres, pero se va a ampliar el programa, va a ser universal, incluso va a llegar hasta adultos, todos van a tener su pensión como los adultos mayores.</p>\\n<p>También para los adultos mayores, los reyes les traen un aumento en la pensión, considerable. Va a aumentar ya este bimestre, van a recibir 20 por ciento más los adultos mayores de 65 años, y va a ir aumentando para que, como lo dije, en el 24, a principios del 24, dentro de dos años, van a estar recibiendo el doble de lo que se recibió en el 21, el doble, en términos cuantitativos, todos los adultos mayores, 10 millones de adultos mayores, y no les va a faltar porque ya tenemos autorizado el presupuesto.</p>\\n<p>',\n",
       " '3': '<p><b>PREGUNTA</b>: Buenos días señor presidente, <i>good morning, mister Jeremy</i>; licenciada Laura, procurador, secretaria, Feliz Año. Buenos días a todas y a todos.</p>\\n<p>Diego Elías Cedillo, de <i>Tabasco Hoy, Campeche Hoy, Quintana Roo Hoy y Diario Basta,</i> de Grupo Cantón. </p>\\n<p>Señor presidente, aprovechando la visita de uno de los más brillantes políticos británicos, derivado del comentario que hizo para que constatara personalmente este ejercicio de comunicación circular, me gustaría, presidente, conocer de primera mano la opinión que usted mantiene de esta conferencia de prensa.</p>\\n<p>A la par, también si usted así lo considera y si fuera prudente, conocer la opinión de <i>mister</i> Jeremy al respecto de esta conferencia de prensa, de este ejercicio circular que ha sido un ejercicio político con los medios de comunicación y con el poder político sin precedentes.</p>\\n<p>Aunado también, presidente, saber cómo nace esta idea suya para crear estas conferencias de prensa. Tengo entendido que se dieron en el gobierno de la Ciudad de México, en ese entonces en el DF, pero ¿cómo?, ¿a quién se le ocurre?, ¿fue usted?, ¿fue un colaborador suyo?, ¿cómo nace este ejercicio de comunicación circular?</p>\\n<p>Gracias, presidente. </p>\\n<p><b>PRESIDENTE ANDRÉS MANUEL LÓPEZ OBRADOR:</b> Bueno, es muy importante informar porque así se pueden contrarrestar rumores, desinformación, manipulación y se informa a la gente de lo que le interesa mucho. Por ejemplo, la gente está interesada en saber qué está sucediendo con el incremento de contagios y nosotros informamos sobre eso, mañana martes se va a informar.</p>\\n<p>Adelanto, porque tengo el informe diario, de que sí están incrementándose los contagios por esta nueva variante, pero afortunadamente no hay incremento en hospitalización y, lo más importante, no hay fallecimientos. O sea, es una síntesis, un resumen. </p>\\n<p>Pensamos que van a aumentar los contagios, pero no está afectando, no tiene la gravedad esta variante que la otra que nos afectó mucho, en Estados Unidos se está incluso sosteniendo que son cinco días en reposo y los síntomas no tienen las mismas características de la otra variante que era más dañina. Desde luego, hay que cuidarse, pero no pensar que va a ser lo mismo, hoy nos presentaron la situación hospitalaria.</p>\\n<p>¿Por qué no pones sólo esa, de cuántos hospitalizados hay?</p>\\n<p>Miren, esto es de ayer, 14 por ciento, no cambió. Sí hay más contagios, pero no hay hospitalización. Y 12 por ciento de ocupación de camas con ventilador para terapia intensiva.</p>\\n<p>Hoy tenemos reunión, como todos los lunes, con todo el sector, hoy se hace la revisión y ya mañana ya informamos. Por eso es importante. Si no, un columnista, que puede ser, para no ningunearlo, un buen escritor podría exagerar su escrito, su nota, porque suele pasar que en estos tiempos se vuelven todólogos y opinan de todo, más, si se trata de crear condiciones catastrofistas, de que nos va a ir mal, de que el gobierno no lo está haciendo bien, son capaces —lo hemos visto, pues— del alarmismo, del amarillismo. Entonces, por eso son buenas las conferencias.</p>\\n<p>En el gobierno de la ciudad, cuando fui jefe de Gobierno se hacían las conferencias y nos funcionó bien, y ahora decidimos hacerlas igual. Esto es muy importante, sobre todo para estar informando, o sea, porque no dependemos sólo de los medios convencionales, hay mucha gente que ve temprano la mañanera de manera directa y ahora que están las redes, el internet y demás, hay muchas posibilidades. </p>\\n<p>Antes había mucho control de la información. Así dominaban, controlando los medios de información, los medios de información más influyentes, porque silenciaban lo que no les convenía y exaltaban, exageraban en todo aquello que consideraban afectaba a un servidor público que no se sometía, llegaron a tener muchísimo poder los medios en ese entonces, no había capacidad de réplica, pero además no se atrevían los servidores públicos a replicar porque les iba peor.</p>\\n<p>Ahora ya no, afortunadamente, y los mismos medios han cambiado mucho. Lo que ha sucedido, y es bueno, es que ya no hay la simulación, la hipocresía de decir: ‘Somos prensa independiente, nos importa la sociedad civil, no tenemos nada que ver con los partidos, no tenemos nada que ver con el gobierno, somos objetivos, profesionales, actuamos con ética’, pues eso ya quedó al descubierto que no es así, aunque últimamente sí ha ido mejorando el comportamiento de los medios.</p>\\n<p>Pero se han aventado unas en estos días… Imagínense, una doctora en ciencia política, la señora Maerker… Dresser, que dice que un acuerdo nuestro era un golpe de Estado, y eran de los favoritos del régimen neoliberal y de ciertos sectores de clase media a los que tenían muy engañados; ahora ya no tanto.</p>\\n<p>El otro, Sergio Aguayo, diciendo que lo del CIDE era el equivalente al 68.</p>\\n<p>Acaba de decir alguien de los mismos intelectuales orgánicos del régimen neoliberal o neoporfirista de que le parecía… No sé, que hubo un cambio de policías o de vigilantes ahí en el CIDE, y que estaba ya sintiendo cómo entraban los tanques como en el 68. Alguien fue.</p>\\n<p><b>INTERLOCUTOR:</b> Belaunzarán.</p>\\n<p><b>PRESIDENTE ANDRÉS MANUEL LÓPEZ OBRADOR:</b> Belaunzarán.</p>\\n<p>Luego, otro dijo que yo era Hitler. ¿Quién fue ese?</p>\\n<p><b>INTERLOCUTOR:</b> Sicilia.</p>\\n<p><b>PRESIDENTE ANDRÉS MANUEL LÓPEZ OBRADOR:</b> Sicilia, sí.</p>\\n<p>Y todos ellos eran los opinadores más famosos en el periodo neoliberal. Entonces, ya esto es distinto, ya no es así.</p>\\n<p>El señor López-Dóriga, primero, fue el que dio a conocer que había fallecido una persona por COVID, cuando afortunadamente no murió, pero fue el primer muerto dado a conocer por López-Dóriga. El señor estaba enfermo y se defendió, y falleció tres o cuatro meses después, o un tiempo después. Pero fue el primero en dar a conocer.</p>\\n<p><b>JESÚS RAMÍREZ CUEVAS, COORDINADOR GENERAL DE COMUNICACIÓN SOCIAL Y VOCERO DE PRESIDENCIA:</b> Ricardo Raphael fue el que dijo de los tanques. </p>\\n<p><b>PRESIDENTE ANDRÉS MANUEL LÓPEZ OBRADOR:</b> Ricardo Raphael fue el que dijo de los tanques entrando —otro intelectual orgánico— de los tanques entrando al CIDE.</p>\\n<p>Que, dicho sea de paso, ojalá y se resuelva lo del CIDE y que tengan la garantía de que no va a haber represión, que no somos iguales nosotros, no somos autoritarios. Tenemos principios, tenemos ideales, somos demócratas.</p>\\n<p>Entonces, todo esto está sucediendo.</p>\\n<p>López-Dóriga luego inventa de que nos habían subido a un simulador, que no era un tren, y era un tren. Y todo su problema, todo su problema —o sea, lo tengo que decir porque esto va a ayudar a aclarar las cosas— es porque ahora tienen que pagar impuestos, que no pagaban, y ya no reciben dinero de publicidad, como recibían antes. Entonces, eso los tiene muy molestos, pero tenemos que llevar a cabo la transformación.</p>\\n<p>Entonces, por eso son las mañaneras, por eso es que damos aquí a conocer lo que sucede.</p>\\n<p>Y no sé si Jeremy quiere comentar algo. ¿Tienes interés en comentar algo? Pero luego tú le tendrías, Laura, que traducir, sí, y tú le traduces. Párate. O Iván, ahora es Iván. Ven ayuda, pasen.</p>\\n<p><b>JEREMY CORBYN, INTEGRANTE DEL PARLAMENTO DEL REINO UNIDO Y EXLÍDER DEL PARTIDO LABORISTA:</b> Buenos días. Muchísimas gracias, señor presidente, por la invitación esta mañana, estar trabajando en la Presidencia para todos los mexicanos.</p>\\n<p>Ahora en inglés, por favor.</p>\\n<p><b>(Interpretación del inglés al español) </b>Muchas gracias por la pregunta. Y aprovechando la oportunidad, quiere señalar que él está muy impresionado con la apertura que significa este ejercicio de conferencias cotidianas, que no existe en muchas partes del mundo, es un ejercicio inédito que él valora mucho.</p>\\n<p>Y conociendo México como alguien que ha visitado en muchas ocasiones el país, porque su esposa es mexicana, está muy bien impresionado sobre la apertura que este gobierno está teniendo en estos momentos en el país. </p>\\n<p>Reconoce que México tiene muchos retos y que uno de los principales es el de la desigualdad, la inequidad que existe.</p>\\n<p>Estuvieron unos días en el estado de Chiapas y se percataron de la enorme necesidad que existe, pero particularmente en el caso de los niños; le parece un asunto de mucha gravedad porque no atender a los niños significa estar desatendiendo a toda la población en general.</p>\\n<p>El reto que está enfrentando el gobierno, y es algo que también le impresiona positivamente, para dedicar los recursos a la educación, a la salud, es algo que valora mucho porque es la mejor forma de enfrentar en el corto y en el largo plazo los retos del país. </p>\\n<p>Acabar con la desigualdad es una de las cosas que más le ha llamado la atención de la administración del presidente López Obrador. </p>\\n<p>Podría seguir por mucho rato, pero no lo va a hacer. </p>\\n<p>Recuerda muy bien el día anterior a la toma de posesión del presidente Andrés Manuel López Obrador, que estuvo con él en su casa en Palenque y que en parte de la conversación reconocía el presidente electo en ese momento López Obrador que una de las cosas que más admiraba del Reino Unido, del país de Jeremy Corbyn, era su Seguro Social, el NHS es el equivalente al Instituto Mexicano del Seguro Social, y que era una de las instituciones que más habían hecho por acabar con la desigualdad y atender la seguridad social de la población británica.</p>\\n<p>Y desde luego ese recuerdo le ha mantenido viendo todo el progreso que se ha hecho en estos años de la administración del presidente López Obrador.</p>\\n<p>Está muy contento de estar aquí, muy agradecido por esta oportunidad.</p>\\n<p>Y también, como interesado en temas de los derechos humanos, la defensa de los derechos humanos, estará en un rato más platicando con el presidente López Obrador sobre los retos que eso significa, no solamente para México, sino para el mundo en su conjunto.</p>\\n<p>Dice que hay 70 millones de refugiados en el mundo y que no es una situación que se deba de aceptar en las condiciones en que está. Si se quiere un mundo en paz, se necesita atender a la demanda de toda esa gente que quiere contribuir a la mejora del mundo en su conjunto.</p>\\n<p>Está muy agradecido y desea mucho éxito al presidente López Obrador y a todos ustedes por su atención. </p>\\n<p>Y su esposa Laura Álvarez es la mejor defensora de los temas de México en el Reino Unido, y trabaja con él en el proyecto que denominó Paz y Justicia, en donde contribuyen a la difusión de los temas, no solamente en Reino Unidos, sino a nivel global. Es una excelente hija de México.</p>\\n<p>Con permiso, presidente. </p>\\n<p><b>INTERLOCUTOR:</b> Señor presidente, como segunda pregunta, derivado del cierre del año fiscal en 2021 se tiene presente que las arcas de Hacienda tuvieron un incremento sin precedentes derivado de que gracias a su gobierno se están cobrando los impuestos a todas las empresas en el país.</p>\\n<p>Recientemente usted sostuvo una conversación con el ingeniero Carlos Slim. Si nos pudiese profundizar un poco de qué trató esta conversación, grosso modo.</p>\\n<p>Y a su vez, presidente, aprovechando que es inicio de año, ¿cuál sería el mensaje que usted le enviaría a todas y todos los empresarios en México?</p>\\n<p>Gracias, presidente.</p>\\n<p><b>PRESIDENTE ANDRÉS MANUEL LÓPEZ OBRADOR:</b> Bueno, el mensaje a los empresarios es también agradecerles por su apoyo en el desarrollo del país. No podríamos sacar adelante a México sin la participación de los empresarios, de los pequeños, de los medianos y de los grandes.</p>\\n<p>Y han tenido de parte de nuestro gobierno facilidades para invertir, para crear empleos y para obtener ganancias lícitas, razonables. No se pueden quejar de que se les ha afectado a los empresarios. Una cosa es lo político, lo ideológico, y otra muy distinta es la realidad económica. Por ejemplo, no hay habido aumentos de impuestos, esto yo creo que lo saben y lo reconocen los empresarios.</p>\\n<p>Hemos procurado impulsar toda la actividad productiva.</p>\\n<p>Y hay algo especial que yo creo que ellos reconocen también: el que se haya logrado mantener mejorado el tratado económico y comercial con Estados Unidos y Canadá. Creo que eso ha significado un gran apoyo para todo el sector empresarial de México; tan es así, que por eso estamos creciendo y México está saliendo adelante enfrentando la crisis de la pandemia, originada por la pandemia. </p>\\n<p>Lo otro que también reconocen es que no hay corrupción arriba, no se permite que haya empresarios favoritos. En el terreno de la construcción no hay privilegios, no se otorgan contratos por consigna. Eso también creo que lo reconocen.</p>\\n<p>Y el que ahora están pagando todos sus impuestos y lo hacen de manera responsable porque estoy seguro que saben que el dinero de los impuestos se está administrando con honradez, no es pagar impuestos para que unos políticos corruptos se roben el dinero, compren departamentos en el extranjero, yates, aviones, vivan colmados de privilegios, se hagan ricos o surjan, como era antes, cada tres años, cada seis años, nuevos ricos. Entonces, creo que eso los empresarios lo saben que es distinto.</p>\\n<p>Y una cosa que saben, que <i>requesaben</i>, <i>requetesaben</i>, es que les ha ido bien a pesar de la pandemia, nada más es cosa de ver resultados de la Bolsa de Valores o ganancias en bancos. A ver, ¿por qué no ponen lo de Bolsa de Valores?</p>\\n<p>El año que acaba de terminar creo que creció la bolsa, hubo ganancias de cerca del 20 por ciento y hay estabilidad económica, financiera, que no se veía desde hace algún tiempo. No sé si tengan algo de la Bolsa de Valores, que ahí se mide cómo están las ganancias, es un sector.</p>\\n<p>Pero yo también les puedo decir que en la bolsa de los pobres ha habido también ingresos, que es la otra bolsa, la que más me importa y me preocupa, el que en los pueblos que mataban una vaca, una res cada semana porque, si no, no se acababa la carne, ahora ya están matando dos: una el jueves y otra el domingo.</p>\\n<p>Esta es la bolsa. Aquí es la caída el 19, aquí, creo es la utilidad más importante en 10 años. </p>\\n<p>¿Y por qué no pones la de la devaluación?, porque estábamos tres por ciento. México fue el país de economías emergentes en que menos se depreció su moneda, si se trata de presumir, el año pasado, el país de América Latina y de otros países en donde se depreció menos su moneda y prácticamente no hemos tenido devaluación en los tres años, 19, 20, 21.</p>\\n<p>Y ahora… Sí, aquí estamos, variación de tipo de cambio respecto al dólar estadounidense por divisa en el periodo considerado del 30 de noviembre, que entramos, al 9 de diciembre, sí, pero si lo pones al 30 —porque toco madera hoy— pero cerramos con 20.50, pesos 50 centavos por dólar. </p>\\n<p>De todas maneras, la pérdida en el año, la depreciación de México, 2.9. Pero aquí habría que descontar, insisto, porque en el 31 de diciembre cerramos, o el viernes último, que fue 31, cerramos en 20.50, 20 pesos 50 por dólar.</p>\\n<p>Pero aquí está desde que entramos. India, depreciación con relación al dólar, 8.5; el rublo ruso, 10.1; rand sudafricano, 14.9; el sol peruano, 20.6; el peso colombiano, depreciación, 20.7; el peso chileno, 26.1; el real brasileño, 44.3.</p>\\n<p>Entonces, los empresarios saben.</p>\\n<p>Y lo mismo en el caso de deuda, fuimos de los países con menos endeudamiento en el mundo, no hubo deuda adicional, tenemos autorizado el presupuesto de este año, ya hay financiamiento para todos los programas.</p>\\n<p>Hablábamos del aeropuerto ‘Felipe Ángeles’, ya tiene dinero para concluirse, la refinería tiene dinero para concluirse, el Tren Maya tiene dinero para trabajar sin detenerse todo el año, ya incluso se autorizó el presupuesto para el nuevo aeropuerto de Tulum, ya está autorizado. Y ya hay una partida especial para el tramo de Escárcega a Tulum; ese tramo va a estar a cargo también de los ingenieros militares, y ya tienen presupuesto para que terminando en marzo se van campamentos a la construcción de cerca de 600 kilómetros de vías férreas desde Escárcega, pasando por Calakmul, Chetumal, Felipe Carrillo Puerto y Tulum.</p>\\n<p>Entonces, otro tema también importante que yo creo que sí reconocen los comerciantes es de que no han caído sus ventas; al contrario hemos logrado que haya capacidad de consumo por los programas de bienestar, pero también —y esto lo podría dejar de mencionar— por el apoyo de nuestros paisanos migrantes, que se va a ser otro récord que va a darse a conocer pronto de que vamos a llegar a 50 mil millones de dólares de remesas en el 2021, como nunca, por eso nuestra economía está en recuperación, está creciendo.</p>\\n<p>',\n",
       " '4': '<p><b>PREGUNTA</b>: Buenos días, presidente; buenos días a los invitados. </p>\\n<p>Shaila Rosagel, corresponsal de <i>Grupo Healy</i>: <i>El Imparcial,</i> de Sonora; la <i>Crónica,</i> de Mexicali; <i>y Frontera, de Tijuana</i>, y el <i>Imparcial.com</i> México.</p>\\n<p>Presidente, en Sonora, el gobernador Durazo tiene varios proyectos como, por ejemplo, la ampliación del puerto de Guaymas, la modernización del aeropuerto de Ciudad Obregón y la construcción de una carretera que va de Guaymas a Chihuahua.</p>\\n<p>Preguntarle cómo se va a involucrar el gobierno federal en estos proyectos.</p>\\n<p>Y también si ya tiene un avance de lo que será su gira por Sonora en este mes, si ya tiene la fecha y con quiénes se reuniría por allá.</p>\\n<p><b>PRESIDENTE ANDRÉS MANUEL LÓPEZ OBRADOR:</b> Sí, de los tres proyectos, estamos analizando. Sin duda empezamos este año la ampliación, rehabilitación, modernización del puerto de Guaymas, ya se tienen los fondos con ese propósito.</p>\\n<p>También este año comenzamos con los trabajos para quitar la vía que atraviesa Nogales y que afecta mucho, vamos a construir un libramiento con una aduana nueva en Nogales, también ese es otro proyecto importante para Sonora.</p>\\n<p>Y voy a ir a Sonora, tengo que organizarme porque tengo que ir a los pueblos yaquis. Es que ofrecí estar visitando los pueblos para que no se nos quede rezagada la obra del distrito de riego.</p>\\n<p>Entonces, voy a Sonora y voy a ir a los pueblos yaquis para hacer la evaluación sobre cómo vamos, si ya se va a licitar la obra, o sea, que no se nos pase el tiempo.</p>\\n<p>Y luego voy con los seris, tengo compromiso también y ahí el compromiso es el agua.</p>\\n<p>Y luego quiero a la sierra también, voy a dedicar un fin de semana completo para que me alcance, pero sí voy a estar por allá.</p>\\n<p><b>INTERLOCUTORA:</b> ¿Sería un viernes, sábado y domingo o cómo sería?</p>\\n<p><b>PRESIDENTE ANDRÉS MANUEL LÓPEZ OBRADOR: </b>Viernes, sábado y domingo, sí.</p>\\n<p><b>INTERLOCUTORA:</b> ¿No tiene la fecha todavía?</p>\\n<p><b>PRESIDENTE ANDRÉS MANUEL LÓPEZ OBRADOR:</b> Va a ser en febrero.</p>\\n<p><b>INTERLOCUTORA:</b> Perfecto, presidente, muchas gracias.</p>\\n<p>También preguntar, aprovechando que está la secretaria Rosa Icela, si tienen previsto algún cambio en la estrategia de seguridad para disminuir los índices de homicidio doloso en los municipios en donde hizo falta este año que pasó como, por ejemplo, Cajeme, donde en Sonora sí disminuyó el homicidio doloso a nivel general y en varios municipios que estaban como Hermosillo, Guaymas, Nogales que son prioritarios, pero en Cajeme no se pudo lograr este objetivo.</p>\\n<p>Si va a haber algún en la estrategia, secretaria, para estos municipios.</p>\\n<p><b>ROSA ICELA RODRÍGUEZ VELÁZQUEZ:</b> Sí, buenos días. Con su permiso, señor presidente.</p>\\n<p>Decir que, efectivamente, con el apoyo y la coordinación con el gobernador, con el gobierno del estado de Sonora, se pudieron bajar la mayoría de los índices delictivos en la mayoría de los municipios del estado de Sonora, pero todavía nos quedan algunos retos, entre ellos, el municipio de Cajeme, como usted bien lo dice, en donde nos falta ahondar más en las diversas acciones que tenemos que hacer.</p>\\n<p>Una de ellas tiene que ver con la presencia de la Guardia Nacional. Ahí han estado y falta de todas maneras conocer bien ahí el trabajo que se está haciendo en el tema de las carreteras, en donde hemos hablado con el gobierno del estado y con las llegadas que hacen los delincuentes para este municipio.</p>\\n<p>Decir que sí es uno de los retos que tenemos y que vamos a poder, independientemente de ver ahí también el tema de la violencia en contra de las mujeres y las niñas. Hay que hacer más trabajo ahí, más constante, y nosotros creemos que en un lapso breve podemos atender, porque también estaremos apoyando con un grupo de compañeros de la Conase, de la Coordinación Nacional Antisecuestros, que llegarán ahí para hacer el trabajo con más diligencia y más… que tengamos más rápido resultados, como se ha tenido en todo el estado.</p>\\n<p>Pero vamos a estar trabajando y poniendo especial atención a este tema con mucho gusto.</p>\\n<p><b>INTERLOCUTORA:</b> Muchas gracias, secretaria; gracias, presidente.</p>\\n<p>Nada más, los fondos. Decía que ya están autorizados fondos para la ampliación del puerto de Guaymas. Si nos pudiera comentar a cuánto asciende lo que aportará la federación.</p>\\n<p><b>PRESIDENTE ANDRÉS MANUEL LÓPEZ OBRADOR:</b> No, porque tenemos todavía que ajustar cifras, pero ya está autorizado.</p>\\n<p>Miren, esos fondos, y esto incluye otras obras que vamos a iniciar en puertos, en la frontera, en aduanas. Por ejemplo, el viaducto, segundo piso en Tijuana de 10 kilómetros aproximadamente, más la nueva garita en Tijuana, todo eso se va a financiar de un fideicomiso de aduanas. Cuando llegamos al gobierno ese fideicomiso tenía 55 mil millones de pesos, consideramos que había que administrarlo bien, no apresurarnos, dejar ese recurso para todo el plan general de mejoramiento de las aduanas y ahora ya decidimos utilizar ese recurso, nada más que ya no son 55 mil, ya aumentó a 90 mil millones. </p>\\n<p>Entonces, el plan que tenemos, la decisión es que lo vamos a dejar igual que como lo encontramos, a la próxima administración, 55 más inflación y el excedente se va a invertir en obras. </p>\\n<p>De ese excedente se va a utilizar para Guaymas y para otras obras que ya mencioné, pero estamos ya definiendo cuáles son las obras y los proyectos para tener el presupuesto.</p>\\n<p>Pero sí Guaymas es una prioridad para el gobierno federal, es un compromiso ya que tenemos.</p>\\n<p><b>INTERLOCUTORA:</b> Gracias, presidente.</p>\\n<p><b>PRESIDENTE ANDRÉS MANUEL LÓPEZ OBRADOR:</b> Muy bien.</p>\\n<p>Yo no traje reloj ahora. ¿Qué horas son?</p>\\n<p><b>INTERVENCIÓN:</b> 08:55.</p>\\n<p><b>PRESIDENTE ANDRÉS MANUEL LÓPEZ OBRADOR:</b> Ya nos falta poquito para ir a desayunar.</p>\\n<p>',\n",
       " '5': '<p><b>PREGUNTA</b>: Buenos días, presidente. Hans Salazar, de <i>Noticiero en Redes</i>. Feliz Año. </p>\\n<p>Integrante del parlamento, Jeremy Corbyn.</p>\\n<p>Presidente, quiero empezar preguntándole: yo he traído este tema, bueno, otros compañeros, pero quisiera yo preguntarle y a propósito del invitado especial que usted tiene aquí presente en esta mañanera, en este palacio, la situación de uno de los activistas de la libertad de expresión pues actualmente vivo, Julian Assange. Julian Assange sigue preso y con ya una declaratoria en Inglaterra para ser extraditado a Estados Unidos.</p>\\n<p>Y a propósito de esta nueva imagen que se tiene de nuestro Ricardo Flores Magón, nuestro héroe nacional, de la libertad de expresión e impulsor de periódicos, de tanta grandeza, yo quisiera preguntarle si se ha insistido en el tema de este ofrecimiento que hizo hace prácticamente un año de asilo en nuestro país, si ha tenido, si en este tiempo, en estos meses se ha tenido contacto con el equipo defensor, la gente de este personaje Julian Assange para poder tener esa posibilidad y así prácticamente salvar su vida.</p>\\n<p>Yo leería, finalmente, las palabras que acaba de publicar la mamá de Julian Assange, dijo hace unos días, escribió: ‘El dolor de ver a mi hijo que arriesgó su vida para denunciar la injusticia, inculpado y privado del derecho a un juicio justo una y otra vez.’</p>\\n<p>Presidente, yo le pregunto si se ha tenido contacto. ¿Qué proyección tiene esta situación? Si es posible o usted lo ve muy lejano en este sentido de esta posibilidad, de acuerdo a los acercamientos que pudo ya haber ya habido con la cancillería.</p>\\n<p><b>PRESIDENTE ANDRÉS MANUEL LÓPEZ OBRADOR:</b> Pues nosotros hemos fijado nuestra postura y estamos dispuestos a ofrecer asilo a Assange en México, esa es nuestra postura. Consideramos que el gobierno de Estados Unidos debe actuar con humanismo. Assange está enfermo y sería una muestra de solidaridad, de fraternidad, el permitirle que recibiera asilo en el país que Assange resolviera vivir, incluido México.</p>\\n<p>Es muy claro que el derecho de asilo, que es parte de nuestra política exterior, que es un orgullo de nuestra política exterior; también tiene una reglamentación en el sentido de que el que recibe el beneficio del asilo va a actuar con respeto a, primero, las leyes de nuestro país y también no podría intervenir en asuntos externos. Entonces, no representa ningún peligro Assange en México.</p>\\n<p>Y voy a decir algo, porque algún día se va a saber. Antes de que terminara la administración del presidente Donald Trump yo le envié un escrito pidiéndole que se le exonerara, se le perdonara. Ya ven que a finales de los gobiernos en Estados Unidos pueden los presidentes hacer uso de esta facultad. Pues envié esa carta; no tuvo respuesta.</p>\\n<p>Pero les ofrezco darla a conocer el día de hoy y refrendo el compromiso de México de cumplir ofreciendo el asilo y solicitándole al gobierno de Estados Unidos una actitud humanitaria. Eso es lo que puedo comentar.</p>\\n<p><b>INTERLOCUTOR:</b> Gracias, presidente. </p>\\n<p>En segundo punto, quisiera preguntarle: este fin de semana hubo un revuelo, hubo algunas aclaraciones vía plataforma, redes sociales, respecto a ajustes presupuestales. Pongo el caso de la ENAH, de la Escuela Nacional de Antropología e Historia, también en el Inali. Ya han salido algunas respuestas de dependencias, incluso aquí mismo de Presidencia.</p>\\n<p>Pero también hay polémica por el tema, por ejemplo, de Indesol, que tiene que ver con no sólo la relación con las asociaciones civiles en varios temas de programas de apoyos, sino también en el apoyo a refugios de mujeres violentadas. En fin, es una serie de actividades que hay preocupación en varios sectores que hacen este tipo de defensa.</p>\\n<p>Y yo le preguntaría, presidente, en ese tema, en ese sentido: ¿cuál es la indicación? Si está en vías de… Por ejemplo, el tema de Indesol, si definitivamente ya pasa a formar parte… Pero ¿de qué manera también se pudieran estar subsanando? o bien reconsiderar esta postura de estas instituciones.</p>\\n<p>Por ejemplo, particularmente la ENAH, bueno, ya se ha comentado respecto a los profesores, a los docentes, pero la precarización de los empleos es lo que sigue estando ahí pendiente. El tema es que usted ha sido defensor de la educación pública, ni se diga de todas las acciones. La ENAH, bueno, es una escuela que ha formado, que sigue formando y que es prácticamente escuela del pueblo, presidente. Yo le preguntaría concretamente este tema.</p>\\n<p>Y aprovechando, si me permite ligarlo, la educación. Está presente la secretaria de Seguridad. Ya se ha comentado el tema de las cárceles, los ahorros, la eficiencia, etcétera, la atención de los derechos humanos, y en algún momento yo le planteé aquí que, por ejemplo, la Universidad Autónoma de la Ciudad de México, del que usted fue fundador cuando jefe de gobierno; la UNAM misma, la Universidad Nacional Autónoma de México, tienen un programa para la educación de gente presa, para que terminen carreras, no solamente cursos, talleres, que ya de por sí serán aliciente para mucha gente está presa, sino estos esquemas de que terminan una carrera ya sea derecho, ya sea alguna de su elección, y que la propia casa de estudios correspondiente, en este caso, repito, la UACM, que hace eso, concretamente en el Reclusorio Oriente, que es donde se tienen datos, le preguntaría si la secretaria tiene contemplado esto, si actualmente qué instituciones ofrecen carreras a los presos, que creo que es la mejor manera que es la mejor manera, la educación, para poder resarcir, para poder reinsertar a gente que está presa.</p>\\n<p>Presidente, esos serían mis planteamientos. Le agradezco mucho las respuestas.</p>\\n<p><b>ROSA ICELA RODRÍGUEZ VELÁZQUEZ:</b> Sí, sobre el tema que usted pregunta, efectivamente, hay un programa interinstitucional en donde participan muchas dependencias no solamente en el apoyo educativo, sino también en el apoyo laboral y también en el apoyo al derecho a la salud.</p>\\n<p>Entonces, hay un programa que me gustaría dárselo, es un programa integral en el que tenemos la obligación como Estado de atender a las personas que están privadas de su libertad, que están en las cárceles mexicanas y que efectivamente hay algunos estados que todavía no están contemplados, pero lo vamos a ir haciendo poco a poco.</p>\\n<p>En el caso de los penales federales ya se está estableciendo y se están impartiendo, y en la Ciudad de México es uno de los lugares en donde más alumnos con carrera terminada, con preparatoria, educación media, primaria salen de los reclusorios; digamos que es de los lugares en donde tienen un programa educativo para las personas que están presas, de manera integral, y lo estamos haciendo a nivel país y en los penales federales también está establecido.</p>\\n<p>Me gustaría, si así lo instruye, presidente, que se lo pueda mostrar al periodista con mucho gusto.</p>\\n<p><b>INTERLOCUTOR:</b> ¿Ese modelo de la UACM ya se ha replicado a nivel nacional o ya está?</p>\\n<p><b>ROSA ICELA RODRÍGUEZ VELÁZQUEZ:</b> No solamente es la Universidad Autónoma de la Ciudad de México, sino son otras entidades educativas en las que participan en este programa integral que ya están dando clases a diferentes reclusorios de la Ciudad de México y de otras entidades, y tienen muy buenos resultados.</p>\\n<p><b>INTERLOCUTOR:</b> Gracias, secretaria, le agradezco.</p>\\n<p><b>PRESIDENTE ANDRÉS MANUEL LÓPEZ OBRADOR:</b> Acerca de tu pregunta sobre las instituciones, va a continuar la reforma administrativa porque tenemos que evitar el derroche, los gastos superfluos, la duplicidad de funciones.</p>\\n<p>Tenemos que seguir ahorrando para que el presupuesto le llegue a la gente que más lo necesita. Por ejemplo, estás hablando de la Escuela de Antropología e Historia. Si hace falta apoyos económicos, los van a haber.</p>\\n<p>Antropología tiene ahora un presupuesto mayor. Todo lo que tiene que ver con el Tren Maya incluye un presupuesto adicional para las zonas arqueológicas; como nunca se van a destinar recursos, ya se está haciendo, para mejorar zonas arqueológicas como Palenque; desde luego, Uxmal, Tulum, Chichén Itzá, Uxmal, todas. Y lo mismo para la educación, todo lo que tiene que ver con la educación se le da prioridad.</p>\\n<p>Pero habían, ya lo hemos dicho, muchas instituciones que no ayudaban o que era muy poco su alcance en beneficios a la gente, y mucho su costo; era más el aparato burocrático que los beneficios a la gente, era lo que decíamos, que ya no se recuerda, un gobierno rico con pueblo pobre. El presupuesto se quedaba en el gobierno porque había instituciones para todo; creaban oficinas, instituciones, fideicomisos, directores generales, directores de área, jefes de departamento, asesores, viáticos, oficinas y ahí se quedaba el dinero destinado supuestamente al pueblo.</p>\\n<p>Ahora ya esos aparatos intermedios, pues ya no tienen razón de ser porque todo se entrega de manera directa. ¿Para qué queremos un instituto de atención al mantenimiento de las escuelas? Mejor le damos el presupuesto para el mantenimiento de las escuelas a las sociedades de padres de familia.</p>\\n<p>¿Para qué queremos un instituto para la construcción de caminos de mano de obra en Oaxaca? Mejor le damos a las autoridades de Oaxaca su presupuesto para que hagan el camino.</p>\\n<p>¿Saben cuánto ahorramos?</p>\\n<p>Muchísimo.</p>\\n<p>Es que el gobierno neoliberal parecía que estaba a la moda. Si se tenía que defender a los niños de la calle, un instituto para defender a los niños de la calle; para el medio ambiente no sólo uno, dos o tres; para la defensa de los derechos humanos cinco o 10, en el mismo gobierno, ¿y saben quién era el violador por excelencia de los derechos humanos? El Estado. </p>\\n<p>Instituto para combatir la corrupción, ¿y quién promovía la corrupción? El gobierno.</p>\\n<p>Instituto para la Transparencia, ¿y quién ocultaba la información para que pudiesen robar a manos llenas? El gobierno.</p>\\n<p>Y para todo así. Entonces, había una burocracia dorada, como lo del Conacyt, para poner un ejemplo. Es una vergüenza que dinero del presupuesto nada más llegaba al Conacyt y de ahí se transfería a grandes empresas; el gobierno subsidiaba en lo que llamaban innovación tecnológica a las grandes empresas.</p>\\n<p>¿Saben cuánto ahorramos con la decisión que se tomó de desaparecer los fideicomisos?</p>\\n<p>Noventa mil millones de pesos. Por eso podemos aumentar la pensión a los adultos mayores y aumentar las becas; si no, no podríamos.</p>\\n<p>Entonces, es exactamente lo mismo. No se deja de atender a la gente, pero ya no hay dos, tres, cuatro, cinco organismos haciendo lo mismo.</p>\\n<p>Ahora está lo del INE, por ejemplo, con lo de la consulta. Va a ser muy interesante, y vuelvo a hacer el llamado a que se revise el presupuesto del INE, porque es autónomo, pero el dinero que manejan es del pueblo. Cuánto en renta y en compra de vehículos, cuánto en sueldos, la pirámide de sueldos: cuánto ganan los de arriba, cuánto ganan los de abajo, sueldo más bonos, más otras prestaciones.</p>\\n<p>Nada más quisiera saber si tienen servicio médico especial, porque eso nosotros lo quitamos.</p>\\n<p>¿Qué es el servicio médico especial —para la gente —? ¿Cómo era el servicio médico especial?</p>\\n<p>Se gastaban seis mil millones de pesos en el gobierno en total para el servicio médico especial. Se enfermaba un alto funcionario público y a una clínica privada, y el gobierno pagaba todo. Me consta de altos funcionarios públicos, cuando menos de uno, que se hizo cirugía plástica a costillas del erario, hasta conozco la anécdota.</p>\\n<p><b>INTERVENCIÓN:</b> ¿Hombre o mujer?</p>\\n<p><b>PRESIDENTE ANDRÉS MANUEL LÓPEZ OBRADOR:</b> Hombre.</p>\\n<p>Ya estaba en el quirófano, ya con el médico y todo, y le dice la señora, su esposa, le dice al médico: ‘Déjenle la naricita como la del presidente Peña Nieto’. Pues eso con cargo al erario. Lo tengo que decir así para que nos entendamos de qué se trata.</p>\\n<p>Luego, otra prebenda. El funcionario público ganaba 200 mil pesos, dejaba en una caja de ahorro 20 mil pesos al mes y el gobierno le ponía otros 20 mil. Ahorraba 40 mil, cuando se iba a otro cargo se llevaba todo eso.</p>\\n<p>Pregúntele a Felipe Calderón cuánto se llevó de ahorro cuando salió, que era de Banobras o… </p>\\n<p><b>INTERVENCIÓN:</b> De Energía.</p>\\n<p><b>PRESIDENTE ANDRÉS MANUEL LÓPEZ OBRADOR:</b> No, de Banobras, y también de energía, y de todo, pero nada más de Banobras. Pues ya no es lo mismo.</p>\\n<p>¿A dónde va ese dinero?</p>\\n<p>A los pobres, a la gente más necesitada. Si eso es populismo, si eso es comunismo, si apoyar a los pobres, evitar los privilegios, es ser populista, que me apunten en la lista. Eso es para hablar claro. </p>\\n<p>Entonces, eso es lo que ellos no aceptan y por eso el enojo.</p>\\n<p>¿Y los demás, qué? ¿Y los pobres, qué? ¿No tienen derecho? ¿Qué no la principal función de un buen gobierno es garantizar la felicidad del pueblo, que la gente esté satisfecha, contenta, sobre todo porque no le falte su comida, sus necesidades básicas? Eso es lo que se está haciendo.</p>\\n<p>Entonces, todos se va a seguir atendiendo, todo lo que es justo se atiende, todo, todo, no hay ningún problema, nada más que el aparato pues ya no existe, sino ¿para qué es la Secretaría de Bienestar? Porque hay Secretaría de Bienestar, pero aparte de la Secretaría de Bienestar está el instituto para atender a los niños, el instituto para atender a las mujeres, el instituto para atender a los discapacitados, el instituto para atender a los adultos mayores ¿y por qué no la Secretaría de Bienestar se hace cargo de todo?</p>\\n<p>Lo tenemos hasta en las imprentas y me cuesta trabajo porque hay resistencias. Tenemos mínimo tres grandes imprentas y desde luego no se usan por completo, se están subutilizando. ¿Qué, no podemos tener una sola bien, funcionando? ¿Y no ahorramos con eso?</p>\\n<p>Pero son procesos que vamos a seguir llevando a cabo.</p>\\n<p>Ya, nada más para terminar —¿te quedas mañana?, sí, para mañana—, nada más decir algo que quiero comentarles.</p>\\n<p>Darle un mensaje a los habitantes de Atlacomulco, del Estado de México; de Atlacomulco, del Estado de México, un mensaje a ellos, a los que se organizaron e hicieron una estatua de mi persona. </p>\\n<p>Decirles que los quiero mucho y que les agradezco mucho por su iniciativa, que son mis amigos del alma, como millones de mexicanos que son mis amigos del alma, que los queremos mucho y que amor con amor se paga, pero que tomen en cuenta de que yo he expresado de que no quiero que pongan a calles, a parques, a bibliotecas, a escuelas, mi nombre, ni quiero tampoco que me levanten ninguna estatua, no quiero nada de eso, lo he expresado varias veces.</p>\\n<p>Si ellos me hubiesen preguntado, seguramente los hubiese yo convencido; como no me consultaron, ellos hicieron o mandaron a hacer esta estatua que derribaron, los que lo hayan hecho, eso es secundario.</p>\\n<p>Aquí lo importante es decirles que no se sientan mal, que yo les agradezco mucho por sus buenas intenciones, pero que también me hagan caso, porque no me gusta lo que tenga que ver con la vanidad, el culto a la personalidad.</p>\\n<p>Estoy muy, muy, muy seguro de lo que estamos haciendo, me siento muy contento, soy muy feliz y todos los días me confieso con el tribunal de mi consciencia.</p>\\n<p>Y me siento muy satisfecho de tenerle amor al pueblo, que si algo le admiro al presidente Lázaro Cárdenas es eso, el profundo amor que le tenía al pueblo de México, el presidente que más amó al pueblo de México; sobre todo, a los humildes. Entonces, eso es muy íntimo, esa es mi recompensa, eso no lo cambio por nada.</p>\\n<p>Y que dejemos a la gente, sin necesidad de que se pongan estatuas o que las calles o las escuelas lleven mi nombre, que la gente tenga su criterio sobre lo que ha representado y seguirá representando mi gobierno, tenerle confianza, tenerle fe al pueblo. </p>\\n<p>Una de las cosas que yo siempre enfrento es la creencia de que el pueblo es malagradecido. Los políticos corruptos siempre dicen: ‘¿Para qué le das al pueblo, si no agradecen?, son unos malagradecidos’, y eso no es cierto, eso puede darse arriba con los potentados, que pueden ser amigos de mentira y enemigos de verdad, pero el pueblo es muy leal, siempre lo ha sido, el pueblo raso.</p>\\n<p>Arriba pueden actuar, como se decía antes de manera coloquial, como chaqueteros, porque se quitaban y se ponían la chaqueta de moda, la que les convenía. Es ‘viva el rey, muera el rey’, así, por interés.</p>\\n<p>En los pobres no, en los pobres casi es amor eterno. Entonces, eso lo tengo muy claro, el pueblo sí es agradecido.</p>\\n<p>¿Y quieren un ejemplo nuevo? Hay muchísimos. En mi vida, quienes me han sacado adelante siempre han sido los pobres, en los momentos más difíciles, los pobres y los sectores más humanos de clase media, pero cuando el desafuero fueron los pobres.</p>\\n<p>Ahora en esta elección intermedia del año pasado que decían los potentados, los conservadores, que nos iban a quitar la mayoría en el Congreso, ¿quiénes nos sacaron a flote? Los pobres.</p>\\n<p>Yo recuerdo la elección del 2000 para jefe de Gobierno, una ola que venía arrasando todo con el movimiento de Fox y llega a la ciudad, y era candidato Creel y se mete la ola a la Ciudad de México.</p>\\n<p>¿Por qué gano? Claro, con tres por ciento de ventaja. Por los pobres, por los de Iztapalapa. ¡Arriba Iztapalapa! De Iztapalapa para el mundo.</p>\\n<p>Ahora en Bolivia le dan golpe de Estado a Evo. Los indígenas se quedan callados, como son. Una política represiva, racista y desde luego golpista, se apoderan de todo y al año una elección y la gente pobre, los indígenas vuelven a votar por el movimiento de Evo y ahí está de nuevo ese movimiento en la presidencia, por los pobres. Esos no son de dos caras.</p>\\n<p>Entonces ¿para qué quiero las estatuas? Además, las estatuas solo muy pocas son respetadas.</p>\\n<p>Yo recuerdo que una vez fui a Sonora a… Esto los del norte seguramente lo saben, que es la tierra de un hombre bueno que fue asesinado de manera cobarde, Luis Donaldo Colosio, y en Sonora tiene bustos Luis Donaldo, y en otras partes también. Iba yo a una gira en Cananea y le pregunto, le preguntamos —porque íbamos a una reunión— sobre un local, un salón, donde iba a ser el acto: </p>\\n<p>—Oye, ¿cómo llegamos al salón tal?</p>\\n<p>—Ah, mira, ahí donde está el mono, en donde está el mono a la derecha.</p>\\n<p>En mi estado hicieron un monumento bellísimo a la patria, ahí está, es una mujer con sus bustos muy evidentes, es la patria.</p>\\n<p>Entonces, ¿cómo conocen al monumento?</p>\\n<p>Como ‘la chichona’, porque… Bueno, ya se los dejo. </p>\\n<p>Entonces, no quiero tampoco así. ¿Para qué las estatuas? </p>\\n<p>Claro, ¿han visto estatuas de Ricardo Flores Magón? Nada, nada. Precursor de la Revolución. Porque no les gustaba a los potentados, pues por eso siempre en la cárcel; pero es un hombre extraordinario en nuestra historia Ricardo Flores Magón.</p>\\n<p>¿Por qué no pones lo que decía sobre ‘aquí yace cuando muera’? Tiene cosas extraordinarias para los jóvenes. Dice algo así como que… sí, un loco, ‘mis amigos, mis enemigos…’ Estaba en la cárcel.</p>\\n<p>‘No sobreviviré a mi cautiverio, pues ya estoy viejo; pero cuando muera, mis amigos quizá escribirán en mi tumba: ‘aquí yace un soñador’, y mis enemigos: ‘aquí yace un loco’, pero no habrá nadie que se atreva a estampar esta inscripción: aquí yace un cobarde y un traidor a sus ideales.’</p>\\n<p>Un aplauso ¿no?</p>\\n<p>Bueno, nos vemos, nos vemos mañana.</p>\\n<p><b>+++++</b></p>\\n<div></div>\\n</div>'}"
      ]
     },
     "execution_count": 17,
     "metadata": {},
     "output_type": "execute_result"
    }
   ],
   "source": [
    "data['2022-01-03.html']['text']"
   ]
  },
  {
   "cell_type": "code",
   "execution_count": 58,
   "metadata": {},
   "outputs": [],
   "source": [
    "# split into fragments\n",
    "\n",
    "main_container = {}\n",
    "first_container = {}\n",
    "\n",
    "for date, transcript in results.items():\n",
    "\n",
    "\n",
    "    splitted_container = {}\n",
    "\n",
    "    for q_num, question in transcript['text'].items():\n",
    "\n",
    "        if q_num > 0:\n",
    "            q_splitted = extract_exchange(question, transcript['question_tag'])\n",
    "\n",
    "            splitted_container[q_num] = q_splitted \n",
    "\n",
    "        else:\n",
    "            first_container[date] = question\n",
    "\n",
    "    main_container[date] = {'texts':splitted_container,\n",
    "                           'question_tag':question_tag}\n",
    "\n",
    "\n"
   ]
  },
  {
   "cell_type": "code",
   "execution_count": 59,
   "metadata": {},
   "outputs": [],
   "source": [
    "with open('questions_by_fragment.json', 'w', encoding='utf-8') as json_file:\n",
    "    json.dump(main_container, json_file)"
   ]
  },
  {
   "cell_type": "code",
   "execution_count": 60,
   "metadata": {},
   "outputs": [],
   "source": [
    "with open('first_fragment.json', 'w', encoding='utf-8') as json_file:\n",
    "    json.dump(first_container, json_file)"
   ]
  },
  {
   "cell_type": "code",
   "execution_count": 18,
   "metadata": {},
   "outputs": [],
   "source": [
    "with open('questions_by_fragment.json', 'r') as json_file:\n",
    "    data = json.load(json_file)"
   ]
  },
  {
   "cell_type": "code",
   "execution_count": 21,
   "metadata": {},
   "outputs": [
    {
     "data": {
      "text/plain": [
       "dict_keys(['texts', 'question_tag'])"
      ]
     },
     "execution_count": 21,
     "metadata": {},
     "output_type": "execute_result"
    }
   ],
   "source": [
    "data['2020-01-02.html'].keys()"
   ]
  },
  {
   "cell_type": "code",
   "execution_count": 30,
   "metadata": {},
   "outputs": [
    {
     "data": {
      "text/plain": [
       "[{'speaker': 'PREGUNTA',\n",
       "  'html': '<p>: Sí, qué tal, presidente. Buenos días. Feliz año.</p><p>Mi nombre es Juan Carlos Rodríguez, reportero de <i>Eje Central.</i></p><p>Mi primera pregunta es si nos puede compartir a nivel personal cuál son sus propósitos para ese año que empieza.</p>',\n",
       "  'order': 0},\n",
       " {'speaker': 'PRESIDENTE ANDRÉS MANUEL LÓPEZ OBRADOR',\n",
       "  'html': '<p> Que podamos consolidar el gobierno, llevando a la práctica con buenos resultados la transformación del país.</p><p>Yo pedí a los mexicanos en diciembre pasado que necesitaba un año más. El día 1º de diciembre de este año quiero informar que ya se establecieron las bases de la transformación de México. Entonces, voy a trabajar con ese propósito, a consolidar lo que ya se inició y a iniciar lo que hace falta para entregar buenas cuentas el día 1º de diciembre de este año.</p><p>Esto pasa principalmente por el bienestar del pueblo, quiero que le vaya muy bien a los pobres, que no sufran, que le vaya bien al pueblo y que al mismo tiempo podamos ir serenando al país, que los problemas que se nos van a presentar este año los podamos resolver sin que haya pérdida de vidas humanas y que también sea benévola con nosotros la naturaleza, para que no tengamos que padecer de ninguna tragedia.</p><p>Esos son mis deseos, que estemos, como ya dije, contentos y en paz.</p>',\n",
       "  'order': 1},\n",
       " {'speaker': 'INTERLOCUTOR',\n",
       "  'html': '<p> Y pasada ya la curva de aprendizaje de todo gobierno que empieza, yo le preguntaría: ¿cuáles son las cosas que corregiría ya en los años que siguen de lo que ha acontecido en estos 13 meses de gobierno?</p>',\n",
       "  'order': 2},\n",
       " {'speaker': 'PRESIDENTE ANDRÉS MANUEL LÓPEZ OBRADOR',\n",
       "  'html': '<p> Yo creo que si hay algo que tenemos que considerar es que lo más importante de todo es el trabajo y que tenemos que trabajar más, no perder el tiempo, aplicarnos más. Eso es lo que saco en conclusión. Trabajamos en el 19, pero debemos de trabajar más todavía en el 20.</p><p>Y entender que es una transformación la que se está llevando a cabo. No fue un simple cambio de gobierno, sino una transformación; y esto es una revolución pacífica, pero revolución al fin.</p><p>Entonces, no es para trabajar ocho horas o 10 o de lunes a viernes y descansar sábado y domingo. No, no, es todo el tiempo 16 horas diarias. Ya tendremos tiempo para descansar, porque yo voy a estar hasta septiembre del 2024 y ya no aspiro a ningún cargo en ningún lado, me retiro por completo. Me debo de entregar de cuerpo y alma a esta noble causa. No podemos perder el tiempo.</p><p>Y me toca alentar a todos para que quienes me ayudan se apliquen a fondo, y no sólo los que me ayudan en el gobierno, para que todos los ciudadanos participen y avancemos, y logremos la transformación del país, que todos ayudemos a empujar al elefante, todos, porque política es tiempo y no hay que perder el impulso.</p><p>Me da mucho gusto que la gente tiene encendida la llama de la esperanza, no hay desaliento. ¿Se acuerdan lo que decían antes?, que había mal humor social. No hay eso, hay optimismo, hay alegría, hay esperanza, y la esperanza es una fuerza muy poderosa. Entonces, tenemos que aprovechar esta circunstancia especial para consumar la transformación, para llevar a cabo los cambios.</p><p>Además, se avanzó mucho en el 2019, mucho, y con poca confrontación política. La verdad es que los conservadores no terminan de espabilarse, están todavía desconcertados, aturdidos, y sus reacciones no han sido las más inteligentes, están muy enojados y desquiciados. Yo entiendo y, repito, creo que están derrotados moralmente. </p><p>Pero hay que aprovechar eso para avanzar, que no nos quedemos nada más en el regodeo, en la autocomplacencia de que vamos bien. No, no, tenemos que ir mejor y consumar la obra de transformación. Eso es lo que pienso.</p><p></p>'}]"
      ]
     },
     "execution_count": 30,
     "metadata": {},
     "output_type": "execute_result"
    }
   ],
   "source": [
    "data['2020-01-02.html']['texts']['2']"
   ]
  },
  {
   "cell_type": "code",
   "execution_count": null,
   "metadata": {},
   "outputs": [],
   "source": []
  }
 ],
 "metadata": {
  "colab": {
   "provenance": []
  },
  "kernelspec": {
   "display_name": "Python 3 (ipykernel)",
   "language": "python",
   "name": "python3"
  },
  "language_info": {
   "codemirror_mode": {
    "name": "ipython",
    "version": 3
   },
   "file_extension": ".py",
   "mimetype": "text/x-python",
   "name": "python",
   "nbconvert_exporter": "python",
   "pygments_lexer": "ipython3",
   "version": "3.11.7"
  }
 },
 "nbformat": 4,
 "nbformat_minor": 4
}
